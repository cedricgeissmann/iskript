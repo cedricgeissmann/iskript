{
 "cells": [
  {
   "cell_type": "markdown",
   "id": "a07bbfbe",
   "metadata": {},
   "source": [
    "# Images\n",
    "\n",
    "When working with computers, we often work with images. In this part we learn\n",
    "how the computer works with images and how we can manipulate images in their\n",
    "raw form as data.\n",
    "\n",
    "A very simple example of an image is the following:\n",
    "\n",
    "![simple_image](res/simple_image_large.png)\n",
    "\n",
    "We as humans just see some black blocks on the screen. But from the perspective\n",
    "of the computer, these black blocks are just a list with some numbers. With a\n",
    "bit of code, we can look at the data that the computer sees. Just execute the\n",
    "next cell, and look at the output."
   ]
  },
  {
   "cell_type": "code",
   "execution_count": 1,
   "id": "d9056aed",
   "metadata": {},
   "outputs": [
    {
     "name": "stdout",
     "output_type": "stream",
     "text": [
      "[0. 1. 0. 1. 0. 1. 0. 1. 0.]\n"
     ]
    }
   ],
   "source": [
    "from gymmu.images import *\n",
    "\n",
    "import numpy as np\n",
    "\n",
    "data = get_example_data()\n",
    "print(data)"
   ]
  },
  {
   "cell_type": "markdown",
   "id": "69b5bccf",
   "metadata": {},
   "source": [
    "Let's investigate the output a bit closer. As we can see, there are 9 entries\n",
    "in this *list*. The entries are either 0 or 255. We know that this data belongs\n",
    "to the image above and we can see that the first entry is 0. When we look at\n",
    "the image, we can see that the block in the top left corner is black. When we\n",
    "investigate further we can see that the second entry is 255 and the second\n",
    "block is white and so on.\n",
    "\n",
    "This is exactly how a computer reads the data for an image. The data is a\n",
    "simple list and the computer assigns each entry in the list a position in the\n",
    "image, starting in the top left and going to the right from there on. When the\n",
    "edge of the image is reached, the data just continues and the computer jumps to\n",
    "the next line.\n",
    "\n",
    "We can test this easily ourself. The next code block holds some example code\n",
    "that draws the data from above. Execute this block and verify that the result\n",
    "is the expected image."
   ]
  },
  {
   "cell_type": "code",
   "execution_count": 7,
   "id": "faa7a25e",
   "metadata": {},
   "outputs": [
    {
     "data": {
      "application/vnd.jupyter.widget-view+json": {
       "model_id": "cf9d949c33344926bc3cb9c849b0fae5",
       "version_major": 2,
       "version_minor": 0
      },
      "text/plain": [
       "Canvas(height=150, sync_image_data=True, width=150)"
      ]
     },
     "metadata": {},
     "output_type": "display_data"
    }
   ],
   "source": [
    "data = [0, 1, 0, 1, 0, 1, 0, 1, 0]\n",
    "write_image_from_data(data)"
   ]
  },
  {
   "cell_type": "markdown",
   "id": "3ad60881",
   "metadata": {},
   "source": [
    "Now that we have a way of displaying our data, we can also manipulate the data.\n",
    "Let's flip some bits and observe the output."
   ]
  },
  {
   "cell_type": "markdown",
   "id": "f3699e84",
   "metadata": {},
   "source": [
    "Can you generate the following image?\n",
    "\n",
    "![black and white stripes](res/black_and_white_stripes.png)"
   ]
  },
  {
   "cell_type": "markdown",
   "id": "7785a352",
   "metadata": {},
   "source": [
    "## There is more than just black and white\n",
    "\n",
    "The computer can display many more colors that just black and white. I.e. there\n",
    "are many levels of gray that can be displayed. If you want a pixel to be gray,\n",
    "just pick a number between 0 and 1 for your data.\n",
    "\n",
    "Try to generate the following picture as closely as possible.\n",
    "\n",
    "![levels of grey](res/levels_of_grey.png)"
   ]
  },
  {
   "cell_type": "markdown",
   "id": "1c09a257",
   "metadata": {},
   "source": [
    "## The bigger Picture\n",
    "\n",
    "As we are not limited to black and white, we are also not limited in the size\n",
    "of the images. To keeps things as simple as possible we limit ourself to\n",
    "squared images for the moment, but we could easily extend this later. But since\n",
    "we limit ourself to squared images we have some restrictions on the data, we\n",
    "always need a square number of entries in our data.\n",
    "\n",
    "In the next code cell you can find some example code with more data. You can\n",
    "play around with the data as before, you can also extend the data to 25 or even\n",
    "more entries."
   ]
  },
  {
   "cell_type": "code",
   "execution_count": 6,
   "id": "4fbf0f45",
   "metadata": {},
   "outputs": [
    {
     "data": {
      "application/vnd.jupyter.widget-view+json": {
       "model_id": "d302b906c3b04593b82b0914b3cb122b",
       "version_major": 2,
       "version_minor": 0
      },
      "text/plain": [
       "Canvas(height=150, sync_image_data=True, width=150)"
      ]
     },
     "metadata": {},
     "output_type": "display_data"
    }
   ],
   "source": [
    "data = [1, 0, 1, 0, 0, 1, 0, 1, 1, 0, 1, 0, 0, 1, 0, 1]\n",
    "write_image_from_data(data)"
   ]
  },
  {
   "cell_type": "markdown",
   "id": "139d0629",
   "metadata": {},
   "source": [
    "## Manipulating Image Data\n",
    "\n",
    "Until know we have always just generated the data. But what if we want to\n",
    "change only a few entries in the image? In this case we can just access the\n",
    "data directly and change the entry we want to change. We can do this in the\n",
    "following way:\n",
    "\n",
    "\n",
    "```python\n",
    "data = [0, 1, 0, 1]\n",
    "data[0] = 1\n",
    "```\n",
    "\n",
    "In the first row here, we create a new array with the entries `0, 1, 0, 1`. So\n",
    "after the creation, the first entry in the array has the value `0`. Now with\n",
    "the second line we change this first entry to `1`.\n",
    "\n",
    "Let's look at this in a more practical example. Note that the next example\n",
    "needs 2 code cells, since we want to display the data after each change."
   ]
  },
  {
   "cell_type": "code",
   "execution_count": 3,
   "id": "81a5b791",
   "metadata": {},
   "outputs": [
    {
     "data": {
      "application/vnd.jupyter.widget-view+json": {
       "model_id": "664966c9c20a4900a5fecc713b906788",
       "version_major": 2,
       "version_minor": 0
      },
      "text/plain": [
       "Canvas(height=150, sync_image_data=True, width=150)"
      ]
     },
     "metadata": {},
     "output_type": "display_data"
    }
   ],
   "source": [
    "data = [1, 0, 1, 0, 0, 1, 0, 1, 1, 0, 1, 0, 0, 1, 0, 1]\n",
    "write_image_from_data(data)"
   ]
  },
  {
   "cell_type": "code",
   "execution_count": 4,
   "id": "599b10df",
   "metadata": {},
   "outputs": [
    {
     "data": {
      "application/vnd.jupyter.widget-view+json": {
       "model_id": "3524d02a4e9a4dcf8c216f97c22afa53",
       "version_major": 2,
       "version_minor": 0
      },
      "text/plain": [
       "Canvas(height=150, sync_image_data=True, width=150)"
      ]
     },
     "metadata": {},
     "output_type": "display_data"
    }
   ],
   "source": [
    "data[0] = 0.5\n",
    "write_image_from_data(data)"
   ]
  },
  {
   "cell_type": "markdown",
   "id": "02dcbc91",
   "metadata": {},
   "source": [
    "## Colors\n",
    "\n",
    "As we all know it is possible to display colored images on the computer. To\n",
    "achieve this, we introduce so called color channels. Basically this is a fancy\n",
    "term for saying that we interpret the data a bit different than before. A very\n",
    "common color model is the so called **RGB** color model. (**RGB** stands for\n",
    "**R**ed, **G**reen, **B**lue). This means we need 3 values to represent a\n",
    "pixel.\n",
    "\n",
    "Let's look at a practical example! Note that we structured the code a bit\n",
    "different this time. Python allows this for better readability. This has no\n",
    "effect on the execution of the code. The data is now structured in a way that\n",
    "each pixel has its 3 values on one line, and each line is a pixel."
   ]
  },
  {
   "cell_type": "code",
   "execution_count": 1,
   "id": "7298e51c",
   "metadata": {},
   "outputs": [
    {
     "data": {
      "application/vnd.jupyter.widget-view+json": {
       "model_id": "48e91cf4aa03414a90df5b071fc9c1d1",
       "version_major": 2,
       "version_minor": 0
      },
      "text/plain": [
       "Canvas(height=150, sync_image_data=True, width=150)"
      ]
     },
     "metadata": {},
     "output_type": "display_data"
    }
   ],
   "source": [
    "from gymmu.images import *\n",
    "\n",
    "data = [\n",
    "    1, 0, 0, \n",
    "    0, 1, 0, \n",
    "    0, 0, 1,\n",
    "    0, 0, 0,\n",
    "]\n",
    "write_image_from_data_colored(data)"
   ]
  },
  {
   "cell_type": "markdown",
   "id": "dbe54054",
   "metadata": {},
   "source": [
    "You can play around with the data and try to create different colors. Build a\n",
    "hypotheses for what you have to change to get a desired color and then test\n",
    "your hypothesis with the code."
   ]
  },
  {
   "cell_type": "markdown",
   "id": "3645c5d4",
   "metadata": {},
   "source": [
    "### Exercise\n",
    "\n",
    "> Generate the following image with the code cell below.\n",
    "> ![all base colors](res/all_base_colors.png)\n",
    "> **Hint:** Keep your data structured for readability. For more pixels, just\n",
    "> add more rows, but keep in mind that the number of rows has to be a squared\n",
    "> number."
   ]
  },
  {
   "cell_type": "code",
   "execution_count": null,
   "id": "95e4a336",
   "metadata": {},
   "outputs": [],
   "source": [
    "from gymmu.images import *\n",
    "\n",
    "data = [\n",
    "    1, 0, 0, \n",
    "    0, 1, 0, \n",
    "    0, 0, 1,\n",
    "    0, 0, 0,\n",
    "]\n",
    "write_image_from_data_colored(data)"
   ]
  },
  {
   "cell_type": "markdown",
   "id": "13b685de",
   "metadata": {},
   "source": [
    "## RGB Color Values\n",
    "\n",
    "Usually color values for a single pixel are given like this `#FF0000`. It is\n",
    "quite plausible that you already saw a string like this. You can check out many\n",
    "more on this [website](https://www.rapidtables.com/web/color/RGB_Color.html#color-table).\n",
    "\n",
    "To understand this sequence of characters, we have to take them apart. \n",
    "\n",
    "First of all, the `#` character is just there to tell the reader that the\n",
    "following character should be interpreted as **hex** values. **Hex** values\n",
    "are values in the [hexadecimal system](https://en.wikipedia.org/wiki/Hexadecimal).\n",
    "For now it is enough to know that the values go from `0` to `F` where `F`\n",
    "stands for the number 16. `FF` stands for the number `255` \n",
    "($16 \\cdot 16^1 + 16 \\cdot 16^0$).\n",
    "\n",
    "We then read the next 6 characters in pairs of 2 characters each. So we get the\n",
    "following 3 pairs `FF`, `00` and `00`. We can quickly calculate the decimal\n",
    "value for these 3 pairs, and we get the values `255`, `0` and `0`.\n",
    "\n",
    "Since we deal with colors and you already know that there are color channels,\n",
    "we can infer that this tuple makes up the following color: `(red=255, green=0,\n",
    "blue=0)`. This is just the color red, since the other 2 channels are 0.\n",
    "\n",
    "Let's put this knowledge into use! In the next code cell you find again some\n",
    "code to generate a colored imaged. Note that we now use values between 0 and\n",
    "255!"
   ]
  },
  {
   "cell_type": "code",
   "execution_count": 12,
   "id": "5aedbaf8",
   "metadata": {},
   "outputs": [
    {
     "data": {
      "application/vnd.jupyter.widget-view+json": {
       "model_id": "6e7c321cbaf54a7abbd2f5af304f9f9c",
       "version_major": 2,
       "version_minor": 0
      },
      "text/plain": [
       "Canvas(height=150, sync_image_data=True, width=150)"
      ]
     },
     "metadata": {},
     "output_type": "display_data"
    }
   ],
   "source": [
    "from gymmu.images import *\n",
    "\n",
    "data = [\n",
    "    255, 0, 0, \n",
    "    0, 255, 0, \n",
    "    0, 0, 255,\n",
    "    0, 0, 0,\n",
    "]\n",
    "write_image_from_data_rgb(data)"
   ]
  },
  {
   "cell_type": "markdown",
   "id": "8fe18b14",
   "metadata": {},
   "source": [
    "### Exercise\n",
    "\n",
    "> Generate the following image as good as possible.\n",
    "> ![rgb examples](res/rgb_colors_example.png)\n",
    "\n",
    "## Random Colors\n",
    "\n",
    "We can also generate some random images."
   ]
  },
  {
   "cell_type": "code",
   "execution_count": 1,
   "id": "40962dab",
   "metadata": {},
   "outputs": [
    {
     "data": {
      "application/vnd.jupyter.widget-view+json": {
       "model_id": "b5a086f02ed34969b39246bcb09d0d68",
       "version_major": 2,
       "version_minor": 0
      },
      "text/plain": [
       "Canvas(height=150, sync_image_data=True, width=150)"
      ]
     },
     "metadata": {},
     "output_type": "display_data"
    }
   ],
   "source": [
    "from gymmu.images import *\n",
    "from random import randint\n",
    "\n",
    "data = []\n",
    "for r in range(10**2 * 3):\n",
    "    data.append(randint(0, 255))\n",
    "    \n",
    "write_image_from_data_rgb(data)"
   ]
  },
  {
   "cell_type": "markdown",
   "id": "45930757",
   "metadata": {},
   "source": [
    "Now let's say that you need a random picture, but there is way to much red in it. The code in the next cell sets the red color channel to `0` for every pixel. Note that this cell has much less code in it than the others. This is because we want to use these cells together. Once a cell is executed, the notebook remembers everything that was executed until the notbooks gets restarted. This is very usefull for us, since we can use data across different cells. In this case, it is usefull because we want to compare the images."
   ]
  },
  {
   "cell_type": "code",
   "execution_count": 2,
   "id": "90a0f480",
   "metadata": {},
   "outputs": [
    {
     "data": {
      "application/vnd.jupyter.widget-view+json": {
       "model_id": "d1093314ddb74fd48b9d22182c9e6367",
       "version_major": 2,
       "version_minor": 0
      },
      "text/plain": [
       "Canvas(height=150, sync_image_data=True, width=150)"
      ]
     },
     "metadata": {},
     "output_type": "display_data"
    }
   ],
   "source": [
    "for i in range(0, len(data), 3):\n",
    "    data[i] = 0\n",
    "\n",
    "write_image_from_data_rgb(data)"
   ]
  },
  {
   "cell_type": "markdown",
   "id": "af162db1",
   "metadata": {},
   "source": [
    "Now we want to know how the image looks like when we set the red channel to\n",
    "maximum for all pixels. This is still the same image, just with a different red\n",
    "channel."
   ]
  },
  {
   "cell_type": "code",
   "execution_count": 3,
   "id": "3bf32eb9",
   "metadata": {},
   "outputs": [
    {
     "data": {
      "application/vnd.jupyter.widget-view+json": {
       "model_id": "12ba654f51b5421ca1f2138333760764",
       "version_major": 2,
       "version_minor": 0
      },
      "text/plain": [
       "Canvas(height=150, sync_image_data=True, width=150)"
      ]
     },
     "metadata": {},
     "output_type": "display_data"
    }
   ],
   "source": [
    "for i in range(0, len(data), 3):\n",
    "    data[i] = 255\n",
    "\n",
    "write_image_from_data_rgb(data)"
   ]
  },
  {
   "cell_type": "markdown",
   "id": "d850a891",
   "metadata": {},
   "source": [
    "## The `range` Function\n",
    "\n",
    "The code looks still quite simple, but the `range` function got a bit more\n",
    "complicated with some more parameters. Let's look at this function in detail.\n",
    "\n",
    "- `range(n)`:\n",
    "  You already know this from the turtles. In this case the `range` function\n",
    "  starts with `0` and counts until `n`. This is the basic usage and is very\n",
    "  common in all python programs.\n",
    "\n",
    "- `range(start, stop)`:\n",
    "  We don't use this form with 2 parameters here, but it is also very useful. As\n",
    "  the name of the parameters already suggest, the `range` function starts\n",
    "  counting from `start` and counts until `stop`, where `stop` is excluded. This\n",
    "  could be useful if you don't want to start from `0`.\n",
    "\n",
    "- `range(start, stop, step)`:\n",
    "  This is very similar to the form with 2 parameters. The `range` function\n",
    "  starts counting from `start` and counts until `stop` (exclusively). In each\n",
    "  step the count gets increased by `step`. This form of the `range` function is\n",
    "  obviously very useful when you want to count in steps of 3.\n",
    "\n",
    "We use the step from of the `range` function here, because we want to access\n",
    "the red channel for every pixel. This means that we have to add skip the green\n",
    "and the blue channel, therefore we count in steps of 3. If we want to do this\n",
    "for the green channel, we would just start from `1` instead of `0`.\n",
    "\n",
    "### Exercise\n",
    "\n",
    "> Extract the green channel from the image above.\n",
    ">\n",
    "> **Hint:** Extracting a channel just means setting the other channels to `0`."
   ]
  },
  {
   "cell_type": "code",
   "execution_count": 7,
   "id": "55441f8a",
   "metadata": {
    "lines_to_next_cell": 2
   },
   "outputs": [
    {
     "data": {
      "application/vnd.jupyter.widget-view+json": {
       "model_id": "71c44e37b3c749ab96616017088a7440",
       "version_major": 2,
       "version_minor": 0
      },
      "text/plain": [
       "Canvas(height=150, sync_image_data=True, width=150)"
      ]
     },
     "metadata": {},
     "output_type": "display_data"
    }
   ],
   "source": [
    "for i in range(0, len(data), 3):\n",
    "    data[i] = 255\n",
    "\n",
    "write_image_from_data_rgb(data)"
   ]
  },
  {
   "cell_type": "markdown",
   "id": "20f0c68d",
   "metadata": {},
   "source": [
    "## Real images\n",
    "\n",
    "Everything we did on these small example images, also works on real images.\n",
    "Things can sometimes get a bit tricky here, since we don't always operate on\n",
    "squared images. But it is much more fun to play around with real images.\n",
    "\n",
    "With the next code cell, we can load an image from the internet. Just provide the URL to an image and you can load any image available on the internet and do some image manipulation.\n",
    "\n",
    "Note that in line 4, we have `data, width = load_image_data(url)`. This is because we need the `data` and the `width` of the image, since the image is not garanteed to be squared."
   ]
  },
  {
   "cell_type": "code",
   "execution_count": 17,
   "id": "7a51a9ee",
   "metadata": {},
   "outputs": [
    {
     "data": {
      "application/vnd.jupyter.widget-view+json": {
       "model_id": "884e47699aac48ceab1a049bc64f126e",
       "version_major": 2,
       "version_minor": 0
      },
      "text/plain": [
       "Canvas(height=798, sync_image_data=True, width=1200)"
      ]
     },
     "metadata": {},
     "output_type": "display_data"
    }
   ],
   "source": [
    "from gymmu.images import *\n",
    "\n",
    "url = 'https://upload.wikimedia.org/wikipedia/commons/thumb/3/35/Neckertal_20150527-6384.jpg/1200px-Neckertal_20150527-6384.jpg'\n",
    "data, width = load_image_data(url)\n",
    "write_image_rgb(data, width)"
   ]
  },
  {
   "cell_type": "markdown",
   "id": "4aa8fc17",
   "metadata": {},
   "source": [
    "This image looks like it has a lot of green in it. Let's remove the green channel, and see how the image looks afterwards."
   ]
  },
  {
   "cell_type": "code",
   "execution_count": 19,
   "id": "2475657f",
   "metadata": {},
   "outputs": [
    {
     "data": {
      "application/vnd.jupyter.widget-view+json": {
       "model_id": "a3360530be614574ab7c6822430163b9",
       "version_major": 2,
       "version_minor": 0
      },
      "text/plain": [
       "Canvas(height=798, sync_image_data=True, width=1200)"
      ]
     },
     "metadata": {},
     "output_type": "display_data"
    }
   ],
   "source": [
    "for i in range(1, len(data), 3):\n",
    "    data[i] = 0\n",
    "    \n",
    "write_image_rgb(data, width)"
   ]
  },
  {
   "cell_type": "markdown",
   "id": "d49a802e",
   "metadata": {},
   "source": [
    "This image looks a bit strange. In the original it looked like there was a lot of green in it, so we would expect that there are some dark spots in the image. It got a bit darker, but it is hard to tell since some color information are missing for us. Maybe we can do better by looking at what we removed.\n",
    "\n",
    "### Exercise\n",
    "\n",
    "> Print only the green channel for this image.\n",
    ">\n",
    "> **Note:** Printing a single channel is the same as setting the other 2 channels to `0`."
   ]
  },
  {
   "cell_type": "code",
   "execution_count": 20,
   "id": "71091446",
   "metadata": {},
   "outputs": [
    {
     "data": {
      "application/vnd.jupyter.widget-view+json": {
       "model_id": "9043b7f43acd4a82aff0c5cedc6c04ad",
       "version_major": 2,
       "version_minor": 0
      },
      "text/plain": [
       "Canvas(height=798, sync_image_data=True, width=1200)"
      ]
     },
     "metadata": {},
     "output_type": "display_data"
    }
   ],
   "source": [
    "from gymmu.images import *\n",
    "\n",
    "url = 'https://upload.wikimedia.org/wikipedia/commons/thumb/3/35/Neckertal_20150527-6384.jpg/1200px-Neckertal_20150527-6384.jpg'\n",
    "data, width = load_image_data(url)\n",
    "write_image_rgb(data, width)\n",
    "\n",
    "#TODO: Implement your code here\n",
    "    \n",
    "write_image_rgb(data, width)"
   ]
  },
  {
   "cell_type": "markdown",
   "id": "2615fcf3",
   "metadata": {},
   "source": [
    "Well that did not help much. It looks like the most green is in the sky and in the mountains. If we think about it, this makes somehow sense. These are the brightest pixels in the image. Since a pixel needs all color channels to have high values, it makes sense that the white-ish pixels also have a high value in the green channel.\n",
    "\n",
    "### Exercise\n",
    "\n",
    "> Create the red and the blue channel for this picture, and compare all the channels together."
   ]
  },
  {
   "cell_type": "code",
   "execution_count": 21,
   "id": "b61f33ad",
   "metadata": {},
   "outputs": [
    {
     "data": {
      "application/vnd.jupyter.widget-view+json": {
       "model_id": "e813de1105684da180410024de579de4",
       "version_major": 2,
       "version_minor": 0
      },
      "text/plain": [
       "Canvas(height=798, sync_image_data=True, width=1200)"
      ]
     },
     "metadata": {},
     "output_type": "display_data"
    }
   ],
   "source": [
    "from gymmu.images import *\n",
    "\n",
    "url = 'https://upload.wikimedia.org/wikipedia/commons/thumb/3/35/Neckertal_20150527-6384.jpg/1200px-Neckertal_20150527-6384.jpg'\n",
    "data, width = load_image_data(url)\n",
    "write_image_rgb(data, width)\n",
    "\n",
    "#TODO: Implement your code here\n",
    "    \n",
    "write_image_rgb(data, width)"
   ]
  }
 ],
 "metadata": {
  "kernelspec": {
   "display_name": "Python 3 (ipykernel)",
   "language": "python",
   "name": "python3"
  },
  "language_info": {
   "codemirror_mode": {
    "name": "ipython",
    "version": 3
   },
   "file_extension": ".py",
   "mimetype": "text/x-python",
   "name": "python",
   "nbconvert_exporter": "python",
   "pygments_lexer": "ipython3",
   "version": "3.9.6"
  }
 },
 "nbformat": 4,
 "nbformat_minor": 5
}
