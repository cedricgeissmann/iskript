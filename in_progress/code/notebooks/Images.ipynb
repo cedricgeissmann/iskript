{
 "cells": [
  {
   "cell_type": "markdown",
   "id": "a07bbfbe",
   "metadata": {},
   "source": [
    "# Images\n",
    "\n",
    "When working with computers, we often work with images. In this part we learn\n",
    "how the computer works with images and how we can manipulate images in their\n",
    "raw form as data.\n",
    "\n",
    "A very simple example of an image is the following:\n",
    "\n",
    "![simple_image](res/simple_image_large.png)\n",
    "\n",
    "We as humans just see some black blocks on the screen. But from the perspective\n",
    "of the computer, these black blocks are just a list with some numbers. With a\n",
    "bit of code, we can look at the data that the computer sees. Just execute the\n",
    "next cell, and look at the output."
   ]
  },
  {
   "cell_type": "code",
   "execution_count": 1,
   "id": "d9056aed",
   "metadata": {},
   "outputs": [
    {
     "name": "stdout",
     "output_type": "stream",
     "text": [
      "[0. 1. 0. 1. 0. 1. 0. 1. 0.]\n"
     ]
    }
   ],
   "source": [
    "from gymmu.images import *\n",
    "\n",
    "import numpy as np\n",
    "\n",
    "data = get_example_data()\n",
    "print(data)"
   ]
  },
  {
   "cell_type": "markdown",
   "id": "69b5bccf",
   "metadata": {},
   "source": [
    "Let's investigate the output a bit closer. As we can see, there are 9 entries\n",
    "in this *list*. The entries are either 0 or 255. We know that this data belongs\n",
    "to the image above and we can see that the first entry is 0. When we look at\n",
    "the image, we can see that the block in the top left corner is black. When we\n",
    "investigate further we can see that the second entry is 255 and the second\n",
    "block is white and so on.\n",
    "\n",
    "This is exactly how a computer reads the data for an image. The data is a\n",
    "simple list and the computer assigns each entry in the list a position in the\n",
    "image, starting in the top left and going to the right from there on. When the\n",
    "edge of the image is reached, the data just continues and the computer jumps to\n",
    "the next line.\n",
    "\n",
    "We can test this easily ourself. The next code block holds some example code\n",
    "that draws the data from above. Execute this block and verify that the result\n",
    "is the expected image."
   ]
  },
  {
   "cell_type": "code",
   "execution_count": 7,
   "id": "faa7a25e",
   "metadata": {},
   "outputs": [
    {
     "data": {
      "application/vnd.jupyter.widget-view+json": {
       "model_id": "cf9d949c33344926bc3cb9c849b0fae5",
       "version_major": 2,
       "version_minor": 0
      },
      "text/plain": [
       "Canvas(height=150, sync_image_data=True, width=150)"
      ]
     },
     "metadata": {},
     "output_type": "display_data"
    }
   ],
   "source": [
    "data = [0, 1, 0, 1, 0, 1, 0, 1, 0]\n",
    "write_image_from_data(data)"
   ]
  },
  {
   "cell_type": "markdown",
   "id": "3ad60881",
   "metadata": {},
   "source": [
    "Now that we have a way of displaying our data, we can also manipulate the data.\n",
    "Let's flip some bits and observe the output."
   ]
  },
  {
   "cell_type": "markdown",
   "id": "f3699e84",
   "metadata": {},
   "source": [
    "Can you generate the following image?\n",
    "\n",
    "![black and white stripes](res/black_and_white_stripes.png)"
   ]
  },
  {
   "cell_type": "markdown",
   "id": "7785a352",
   "metadata": {},
   "source": [
    "## There is more than just black and white\n",
    "\n",
    "The computer can display many more colors that just black and white. I.e. there\n",
    "are many levels of gray that can be displayed. If you want a pixel to be gray,\n",
    "just pick a number between 0 and 1 for your data.\n",
    "\n",
    "Try to generate the following picture as closely as possible.\n",
    "\n",
    "![levels of grey](res/levels_of_grey.png)"
   ]
  },
  {
   "cell_type": "markdown",
   "id": "1c09a257",
   "metadata": {},
   "source": [
    "## The bigger Picture\n",
    "\n",
    "As we are not limited to black and white, we are also not limited in the size\n",
    "of the images. To keeps things as simple as possible we limit ourself to\n",
    "squared images for the moment, but we could easily extend this later. But since\n",
    "we limit ourself to squared images we have some restrictions on the data, we\n",
    "always need a square number of entries in our data.\n",
    "\n",
    "In the next code cell you can find some example code with more data. You can\n",
    "play around with the data as before, you can also extend the data to 25 or even\n",
    "more entries."
   ]
  },
  {
   "cell_type": "code",
   "execution_count": 6,
   "id": "4fbf0f45",
   "metadata": {},
   "outputs": [
    {
     "data": {
      "application/vnd.jupyter.widget-view+json": {
       "model_id": "d302b906c3b04593b82b0914b3cb122b",
       "version_major": 2,
       "version_minor": 0
      },
      "text/plain": [
       "Canvas(height=150, sync_image_data=True, width=150)"
      ]
     },
     "metadata": {},
     "output_type": "display_data"
    }
   ],
   "source": [
    "data = [1, 0, 1, 0, 0, 1, 0, 1, 1, 0, 1, 0, 0, 1, 0, 1]\n",
    "write_image_from_data(data)"
   ]
  },
  {
   "cell_type": "markdown",
   "id": "139d0629",
   "metadata": {},
   "source": [
    "## Manipulating Image Data\n",
    "\n",
    "Until know we have always just generated the data. But what if we want to\n",
    "change only a few entries in the image? In this case we can just access the\n",
    "data directly and change the entry we want to change. We can do this in the\n",
    "following way:\n",
    "\n",
    "\n",
    "```python\n",
    "data = [0, 1, 0, 1]\n",
    "data[0] = 1\n",
    "```\n",
    "\n",
    "In the first row here, we create a new array with the entries `0, 1, 0, 1`. So\n",
    "after the creation, the first entry in the array has the value `0`. Now with\n",
    "the second line we change this first entry to `1`.\n",
    "\n",
    "Let's look at this in a more practical example. Note that the next example\n",
    "needs 2 code cells, since we want to display the data after each change."
   ]
  },
  {
   "cell_type": "code",
   "execution_count": 3,
   "id": "81a5b791",
   "metadata": {},
   "outputs": [
    {
     "data": {
      "application/vnd.jupyter.widget-view+json": {
       "model_id": "664966c9c20a4900a5fecc713b906788",
       "version_major": 2,
       "version_minor": 0
      },
      "text/plain": [
       "Canvas(height=150, sync_image_data=True, width=150)"
      ]
     },
     "metadata": {},
     "output_type": "display_data"
    }
   ],
   "source": [
    "data = [1, 0, 1, 0, 0, 1, 0, 1, 1, 0, 1, 0, 0, 1, 0, 1]\n",
    "write_image_from_data(data)"
   ]
  },
  {
   "cell_type": "code",
   "execution_count": 4,
   "id": "599b10df",
   "metadata": {},
   "outputs": [
    {
     "data": {
      "application/vnd.jupyter.widget-view+json": {
       "model_id": "3524d02a4e9a4dcf8c216f97c22afa53",
       "version_major": 2,
       "version_minor": 0
      },
      "text/plain": [
       "Canvas(height=150, sync_image_data=True, width=150)"
      ]
     },
     "metadata": {},
     "output_type": "display_data"
    }
   ],
   "source": [
    "data[0] = 0.5\n",
    "write_image_from_data(data)"
   ]
  },
  {
   "cell_type": "code",
   "execution_count": 4,
   "id": "7298e51c",
   "metadata": {},
   "outputs": [],
   "source": [
    "c.to_file('res/levels_of_grey.png')"
   ]
  },
  {
   "cell_type": "code",
   "execution_count": 6,
   "id": "18ac9108",
   "metadata": {},
   "outputs": [
    {
     "data": {
      "application/vnd.jupyter.widget-view+json": {
       "model_id": "3e7353b996e6458091a18a5f8232f452",
       "version_major": 2,
       "version_minor": 0
      },
      "text/plain": [
       "Canvas(height=200, sync_image_data=True, width=200)"
      ]
     },
     "metadata": {},
     "output_type": "display_data"
    }
   ],
   "source": [
    "c = Canvas(width=200, height=200, sync_image_data=True)\n",
    "\n",
    "for x in range(0, 200, 100):\n",
    "    for y in range(0, 200, 100):\n",
    "        c.fill_rect(x, y, width=50)\n",
    "        \n",
    "c.fill_rect(50, 50, width=50)\n",
    "\n",
    "c"
   ]
  },
  {
   "cell_type": "code",
   "execution_count": 8,
   "id": "5a7bf9ad",
   "metadata": {},
   "outputs": [],
   "source": [
    "c.to_file('res/simple_image_large.png')"
   ]
  },
  {
   "cell_type": "code",
   "execution_count": 10,
   "id": "385f8d69",
   "metadata": {},
   "outputs": [
    {
     "data": {
      "application/vnd.jupyter.widget-view+json": {
       "model_id": "fdb890dfffbe47a59673ec58e41ce36f",
       "version_major": 2,
       "version_minor": 0
      },
      "text/plain": [
       "Canvas(height=3, sync_image_data=True, width=3)"
      ]
     },
     "metadata": {},
     "output_type": "display_data"
    }
   ],
   "source": [
    "c = Canvas(width=3, height=3, sync_image_data=True)\n",
    "\n",
    "for x in range(0, 3, 2):\n",
    "    for y in range(0, 3, 2):\n",
    "        c.fill_rect(x, y, width=1)\n",
    "        \n",
    "c.fill_rect(1, 1, width=1)\n",
    "\n",
    "c"
   ]
  },
  {
   "cell_type": "code",
   "execution_count": 11,
   "id": "2a6ff3f4",
   "metadata": {},
   "outputs": [],
   "source": [
    "c.to_file('res/simple_image.png')"
   ]
  },
  {
   "cell_type": "code",
   "execution_count": null,
   "id": "16eb7687",
   "metadata": {},
   "outputs": [],
   "source": [
    "red = data[:, :, 0]\n",
    "green = data[:, :, 1]\n",
    "blue = data[:, :, 2]\n",
    "alpha = data[:, :, 3]\n",
    "\n",
    "red = np.reshape(red, (40000, 1))\n",
    "red"
   ]
  },
  {
   "cell_type": "code",
   "execution_count": null,
   "id": "e2fcd8a2",
   "metadata": {},
   "outputs": [],
   "source": [
    "new_data = data.reshape(160000)\n",
    "gray = np.array([(sum(new_data[i:i+3]) / 3) for i in range(0, len(new_data), 4)]).reshape((200,200))\n",
    "all_data = np.stack([gray, gray, gray, alpha], axis=2)\n",
    "c = Canvas(width=200, height=200)\n",
    "c.scale(2)\n",
    "c.put_image_data(all_data, 0, 0)\n",
    "\n",
    "c"
   ]
  }
 ],
 "metadata": {
  "kernelspec": {
   "display_name": "Python 3 (ipykernel)",
   "language": "python",
   "name": "python3"
  },
  "language_info": {
   "codemirror_mode": {
    "name": "ipython",
    "version": 3
   },
   "file_extension": ".py",
   "mimetype": "text/x-python",
   "name": "python",
   "nbconvert_exporter": "python",
   "pygments_lexer": "ipython3",
   "version": "3.9.6"
  }
 },
 "nbformat": 4,
 "nbformat_minor": 5
}
