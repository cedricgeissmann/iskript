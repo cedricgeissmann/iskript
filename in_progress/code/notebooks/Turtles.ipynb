{
 "cells": [
  {
   "cell_type": "markdown",
   "metadata": {},
   "source": [
    "# Turtles\n",
    "\n",
    "A common task in Computer Science is to communicate with the computer or in\n",
    "some cases with a robot. For students who are new to Computer Science, this is\n",
    "normally done with so called *Turtle Graphics*.\n",
    "\n",
    "In *Turtle Graphics* the goal of the student is to give some instructions to a\n",
    "turtle, who then executes these instructions. To make is more interesting, the\n",
    "turtle holds a pen that draws lines when the turtle moves. Common instructions\n",
    "for the turtle are to move forward by a certain amount or to turn counter\n",
    "clockwise by a given angle. With only these 2 instructions, there are already\n",
    "many interesting graphics that we can draw."
   ]
  },
  {
   "cell_type": "markdown",
   "metadata": {},
   "source": [
    "**TODO:** Add some examples."
   ]
  },
  {
   "cell_type": "markdown",
   "metadata": {},
   "source": [
    "## Instructing a Turtle\n",
    "\n",
    "To give some instruction to the turtle, we first need a way to execute some\n",
    "code. In *Jupyter-Notebooks* we have so called **cells**. There are different\n",
    "kind of **cells** available, i.e. the currently you are reading a text\n",
    "**cell**. There is also a *code* **cell** which is way more interesting for us.\n",
    "\n",
    "A code cell allows us to execute program code, which is exactly what we do when\n",
    "we give some instructions to the turtle. To execute the program code, we have\n",
    "to select the cell we want to execute. When the cell is selected, you can find\n",
    "a button near the top of the page that says `Run`. When you click this button,\n",
    "the cell that you have currently selected will be executed. If you rather like\n",
    "keyboard shortcuts you can also select the cell and press `ctrl` + `Enter`.\n",
    "\n",
    "Let's give some first instructions to a turtle. You can find a code cell\n",
    "directly below this text. The cell has already some code inside, so we can just\n",
    "execute the cell and see what happens."
   ]
  },
  {
   "cell_type": "code",
   "execution_count": 2,
   "metadata": {},
   "outputs": [
    {
     "name": "stdout",
     "output_type": "stream",
     "text": [
      "Object `gymmu.turtle` not found.\n"
     ]
    },
    {
     "data": {
      "application/vnd.jupyter.widget-view+json": {
       "model_id": "d6d929d0e87e4aa08b239d3473388533",
       "version_major": 2,
       "version_minor": 0
      },
      "text/plain": [
       "Canvas(height=400, width=400)"
      ]
     },
     "metadata": {},
     "output_type": "display_data"
    }
   ],
   "source": [
    "from gymmu.turtle import *\n",
    "\n",
    "make_turtle()\n",
    "\n",
    "forward(50)\n",
    "turn(90)\n",
    "forward(20)\n",
    "\n",
    "gymmu.turtle?\n",
    "\n",
    "show()"
   ]
  },
  {
   "cell_type": "markdown",
   "metadata": {},
   "source": [
    "After executing the cell, you should see an image. This is the result of the\n",
    "instructions we gave to the turtle. To can check the instructions in the code\n",
    "cell. To verify that the turtle really follows the instructions and does not\n",
    "simply draw this one image, you can chance the instructions in the code cell\n",
    "from line 5 to 7. After changing the instructions, you have to execute the cell\n",
    "again, so that the turtle can follow the new instructions.\n",
    "\n",
    "You can also add more instructions, just by adding a few more lines. You can\n",
    "also play around with this and try to draw a rectangle or even more complex\n",
    "shapes like a triangle."
   ]
  },
  {
   "cell_type": "markdown",
   "metadata": {},
   "source": [
    "## Explaining the Code\n",
    "\n",
    "The nice thing in Computer Science is that you can observe what you are doing.\n",
    "With the turtle is is very easy to give some new instructions and to verify\n",
    "that the instructions are correct, you can just execute the code. This is very\n",
    "important and should be done very often. Make it a habit to make small changes\n",
    "and execute them to see if the work as intended!\n",
    "\n",
    "It is also very common to make small errors in your code, and the code does not\n",
    "work as you intended. So it is also very important to understand what is\n",
    "happening here.\n",
    "\n",
    "The first thing you should know is that there is something called **syntax**. A\n",
    "**syntax** defines how a language can be read. Since a computer can only follow\n",
    "very strict rules, it is very important to get the **syntax** correct,\n",
    "otherwise the computer does not know what you want to tell it. On close\n",
    "observation you can see that numbers after `forward` and `turn` are in\n",
    "parentheses `()`. This is part of the **syntax** and very important for the\n",
    "computer. You can try what happens if you leave them away.\n",
    "\n",
    "Another type of error is the **semantic** error. A **semantic** error does not\n",
    "lead to a crash of the program, but the program does not behave how you\n",
    "intended it. **Semantic** errors are quite common and sometimes very hard to\n",
    "spot. To spot a **semantic** error, you have to understand the program\n",
    "completely.\n",
    "\n",
    "It is very easy to make **semantic** errors in the code above, since we have\n",
    "not discussed it in detail. I.e. maybe you added the new instructions at the\n",
    "end of the cell, after the line with `show()`. This would be perfectly fine,\n",
    "but it does not lead to the intended behavior. We want the turtle to execute\n",
    "all the code, and then show the image it drew. If we add the instructions after\n",
    "the line with `show()` you can see that these instructions are not drawn onto\n",
    "the image. You can check that for yourself, just add some instructions before\n",
    "and after the line with `show()` and execute the cell.\n",
    "\n",
    "You can make the same **semantic** error when you give the instructions to the\n",
    "turtle before the line with `make_turtle()`. You can also verify this behaviour\n",
    "for yourself.\n",
    "\n",
    "So now we understand pretty much of this code. Just to make sure we go through\n",
    "it line by line:\n",
    "\n",
    "`from gymmu.turtle import *`\n",
    "\n",
    "> This is a special line that you cannot understand just as easy. Let's just\n",
    "> say that it imports the code that you need to give some instructions to the\n",
    "> turtle.\n",
    "\n",
    "`make_turtle()`\n",
    "\n",
    "> This creates a turtle that executes the instructions that you give to it.\n",
    "\n",
    "`forward(100)`\n",
    "\n",
    "> Give the instruction to the turtle that it should move forward by 100 steps.\n",
    "\n",
    "`turn(90)`\n",
    "\n",
    "> Tell the turtle to turn counter clockwise by 90°.\n",
    "\n",
    "`show()`\n",
    "\n",
    "> Show the result of the instructions for the turtle."
   ]
  },
  {
   "cell_type": "markdown",
   "metadata": {},
   "source": [
    "## More Instructions\n",
    "\n",
    "To create some complex images we need more instructions that we can give to the\n",
    "turtle. As usually in Computer Science the names of these instructions should\n",
    "be pretty self explanatory. So we just provide a list with the rest of the\n",
    "instructions, without explaining what they do.\n",
    "\n",
    "- `pen_up()`\n",
    "- `pen_down()`\n",
    "- `clear()`\n",
    "- `reset()`\n",
    "- `color('black')`\n",
    "- `stoke_width(2)`\n",
    "\n",
    "Just below this, you can find another code cell, where you can play around with\n",
    "the new commands. This is a common scenario in Computer Science, where you have\n",
    "to build the intuition for the behavior of the code.\n",
    "\n",
    "> **Note:**\n",
    ">\n",
    "> In the block below you can find a line that begins with a `#`. This means\n",
    "> that this line is a comment and nothing behind the `#`-symbol will be\n",
    "> executed. You should make it a habit to use comments to comment on your code!"
   ]
  },
  {
   "cell_type": "code",
   "execution_count": null,
   "metadata": {},
   "outputs": [],
   "source": [
    "from gymmu.turtle import *\n",
    "\n",
    "make_turtle()\n",
    "\n",
    "# TODO: add your instructions here!\n",
    "\n",
    "show()"
   ]
  }
 ],
 "metadata": {
  "kernelspec": {
   "display_name": "Python 3",
   "language": "python",
   "name": "python3"
  },
  "language_info": {
   "codemirror_mode": {
    "name": "ipython",
    "version": 3
   },
   "file_extension": ".py",
   "mimetype": "text/x-python",
   "name": "python",
   "nbconvert_exporter": "python",
   "pygments_lexer": "ipython3",
   "version": "3.8.3rc1"
  }
 },
 "nbformat": 4,
 "nbformat_minor": 5
}
