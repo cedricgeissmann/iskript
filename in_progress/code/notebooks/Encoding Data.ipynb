{
 "cells": [
  {
   "cell_type": "markdown",
   "metadata": {},
   "source": [
    "# Encoding and Decoding Data\n",
    "\n",
    "In computer science one of the most important tasks is to encode and decode data for different jobs or processes. We have seen how individual bits can be used to digitally represent an image file. However, computers are used in many more applications: Word processing; viewing and editing of images, video or music; browsing the internet and so on. All of these proesses boil down to ones and zeros being written and interpreted somewhere inside your computer."
   ]
  }
 ],
 "metadata": {
  "kernelspec": {
   "display_name": "Python 3",
   "language": "python",
   "name": "python3"
  },
  "language_info": {
   "codemirror_mode": {
    "name": "ipython",
    "version": 3
   },
   "file_extension": ".py",
   "mimetype": "text/x-python",
   "name": "python",
   "nbconvert_exporter": "python",
   "pygments_lexer": "ipython3",
   "version": "3.8.3rc1"
  }
 },
 "nbformat": 4,
 "nbformat_minor": 4
}
