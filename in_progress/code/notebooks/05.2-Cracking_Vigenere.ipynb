{
 "cells": [
  {
   "cell_type": "code",
   "execution_count": 1,
   "id": "0666a2e9",
   "metadata": {},
   "outputs": [
    {
     "data": {
      "text/plain": [
       "3882"
      ]
     },
     "execution_count": 1,
     "metadata": {},
     "output_type": "execute_result"
    }
   ],
   "source": [
    "text = \"\"\"\n",
    "Am no an listening depending up believing. Enough around remove to barton agreed regret in or it. Advantage mr estimable be commanded provision. Year well shot deny shew come now had. Shall downs stand marry taken his for out. Do related mr account brandon an up. Wrong for never ready ham these witty him. Our compass see age uncivil matters weather forbade her minutes. Ready how but truth son new under.\n",
    "\n",
    "Situation admitting promotion at or to perceived be. Mr acuteness we as estimable enjoyment up. An held late as felt know. Learn do allow solid to grave. Middleton suspicion age her attention. Chiefly several bed its wishing. Is so moments on chamber pressed to. Doubtful yet way properly answered humanity its desirous. Minuter believe service arrived civilly add all. Acuteness allowance an at eagerness favourite in extensive exquisite ye.\n",
    "\n",
    "Greatly cottage thought fortune no mention he. Of mr certainty arranging am smallness by conveying. Him plate you allow built grave. Sigh sang nay sex high yet door game. She dissimilar was favourable unreserved nay expression contrasted saw. Past her find she like bore pain open. Shy lose need eyes son not shot. Jennings removing are his eat dashwood. Middleton as pretended listening he smallness perceived. Now his but two green spoil drift.\n",
    "\n",
    "If wandered relation no surprise of screened doubtful. Overcame no insisted ye of trifling husbands. Might am order hours on found. Or dissimilar companions friendship impossible at diminution. Did yourself carriage learning she man its replying. Sister piqued living her you enable mrs off spirit really. Parish oppose repair is me misery. Quick may saw style after money mrs.\n",
    "\n",
    "Ham followed now ecstatic use speaking exercise may repeated. Himself he evident oh greatly my on inhabit general concern. It earnest amongst he showing females so improve in picture. Mrs can hundred its greater account. Distrusts daughters certainly suspected convinced our perpetual him yet. Words did noise taken right state are since.\n",
    "\n",
    "Adieus except say barton put feebly favour him. Entreaties unpleasant sufficient few pianoforte discovered uncommonly ask. Morning cousins amongst in mr weather do neither. Warmth object matter course active law spring six. Pursuit showing tedious unknown winding see had man add. And park eyes too more him. Simple excuse active had son wholly coming number add. Though all excuse ladies rather regard assure yet. If feelings so prospect no as raptures quitting.\n",
    "\n",
    "Depart do be so he enough talent. Sociable formerly six but handsome. Up do view time they shot. He concluded disposing provision by questions as situation. Its estimating are motionless day sentiments end. Calling an imagine at forbade. At name no an what like spot. Pressed my by do affixed he studied.\n",
    "\n",
    "Far concluded not his something extremity. Want four we face an he gate. On he of played he ladies answer little though nature. Blessing oh do pleasure as so formerly. Took four spot soon led size you. Outlived it received he material. Him yourself joy moderate off repeated laughter outweigh screened.\n",
    "\n",
    "Its had resolving otherwise she contented therefore. Afford relied warmth out sir hearts sister use garden. Men day warmth formed admire former simple. Humanity declared vicinity continue supplied no an. He hastened am no property exercise of. Dissimilar comparison no terminated devonshire no literature on. Say most yet head room such just easy.\n",
    "\n",
    "As absolute is by amounted repeated entirely ye returned. These ready timed enjoy might sir yet one since. Years drift never if could forty being no. On estimable dependent as suffering on my. Rank it long have sure in room what as he. Possession travelling sufficient yet our. Talked vanity looked in to. Gay perceive led believed endeavor. Rapturous no of estimable oh therefore direction up. Sons the ever not fine like eyes all sure.\n",
    "\"\"\"\n",
    "len(text)"
   ]
  },
  {
   "cell_type": "code",
   "execution_count": 2,
   "id": "0809955f",
   "metadata": {
    "scrolled": true
   },
   "outputs": [],
   "source": [
    "def vigenere(text, key, p):\n",
    "    text = text.upper()\n",
    "    key = key.upper()\n",
    "    res = \"\" #\"Ciphertext: \" if p == 1 else \"Plaintext: \"\n",
    "    pos = 0\n",
    "    for c in text:\n",
    "        if ord(c) >= 65 and ord(c) <= 90:\n",
    "            shift = ord(key[pos % len(key)]) - 65\n",
    "            pos = pos + 1\n",
    "            sc = ord(c) - 65\n",
    "            sc = (sc + p*shift) % 26\n",
    "            sc = sc + 65\n",
    "        else:\n",
    "            sc = ord(c)\n",
    "        res = res + chr(sc)\n",
    "    return res\n",
    "\n",
    "key = \"THISISAVERYLONGKEYWITHABITOFREPETITIONINIT\"[:-1]\n",
    "cipher = vigenere(text, key, 1)\n",
    "#print(cipher)"
   ]
  },
  {
   "cell_type": "code",
   "execution_count": 3,
   "id": "d82f6a62",
   "metadata": {
    "scrolled": false
   },
   "outputs": [],
   "source": [
    "import pandas\n",
    "import string\n",
    "from collections import Counter\n",
    "\n",
    "def is_prime(a):\n",
    "    return all(a % i for i in range(2, a))\n",
    "\n",
    "def hist_analysis(cipher):\n",
    "    cipher = cipher.lower()\n",
    "\n",
    "    a = [c for c in cipher if c in string.ascii_lowercase]\n",
    "    res = {}\n",
    "    for key_len in range(1, 100):\n",
    "        li = []\n",
    "        for s in range(key_len):\n",
    "            tmp = [a[i] for i in range(s, len(a), key_len)]\n",
    "            for ch in string.ascii_lowercase:\n",
    "                tmp.append(ch)\n",
    "            tmp.sort()\n",
    "            letter_counts = Counter(tmp)\n",
    "            li.append(letter_counts)\n",
    "\n",
    "        di = {k: 0 for k in string.ascii_lowercase}\n",
    "        n = len(li)\n",
    "        for i in range(n):\n",
    "            for k in di.keys():\n",
    "                di[k] = (li[i][k] - li[(i+1) % n][k])**2\n",
    "\n",
    "        sum = 0\n",
    "        for v in di.values():\n",
    "            sum += v\n",
    "\n",
    "        res[key_len] = sum / len(cipher)\n",
    "\n",
    "    res = sorted(res.items(), key=lambda x: x[1], reverse=True)\n",
    "    return {k: v for k, v in res}\n",
    "\n",
    "def get_prev_keys(res):\n",
    "    prev_keys = []\n",
    "    for k in res.keys():\n",
    "        if is_prime(k):\n",
    "            prev_keys.append(k)\n",
    "            continue\n",
    "        for pk in prev_keys:\n",
    "            if k / pk < 1:\n",
    "                return prev_keys\n",
    "        prev_keys.append(k)"
   ]
  },
  {
   "cell_type": "code",
   "execution_count": 4,
   "id": "7b9d0988",
   "metadata": {},
   "outputs": [
    {
     "name": "stdout",
     "output_type": "stream",
     "text": [
      "41: [2, 3, 4, 9]\n",
      "40: [2, 4, 5, 10]\n",
      "39: [3, 2, 6, 5]\n",
      "38: [2, 4, 3, 19]\n",
      "37: [3, 5, 2]\n",
      "36: [2, 3, 4, 6, 9]\n",
      "35: [5, 7, 10, 2, 3]\n",
      "34: [2, 4, 6, 5, 8, 3, 10, 7, 14, 17]\n",
      "33: [3, 2, 4, 11, 5]\n",
      "32: [2, 4, 8]\n",
      "31: [3, 2, 5]\n",
      "30: [2, 5]\n",
      "29: [2, 3, 4, 6, 29, 7, 5]\n",
      "28: [2, 4, 7, 8]\n",
      "27: [2, 3, 9]\n",
      "26: [2, 4, 3, 8]\n",
      "25: [5, 2, 10]\n",
      "24: [2, 4, 8, 3]\n",
      "23: [2, 23, 3, 5]\n",
      "22: [2, 4, 6, 11]\n",
      "21: [3, 7, 2]\n",
      "20: [2, 4, 5, 10]\n",
      "19: [2, 19, 3]\n",
      "18: [2, 4, 3, 6, 9, 18]\n",
      "17: [3, 2, 17, 5]\n",
      "16: [2, 4, 8]\n",
      "15: [3, 5, 15]\n",
      "14: [2, 4, 7]\n",
      "13: [13, 3, 2]\n",
      "12: [2, 4, 3, 6, 12]\n",
      "11: [11, 2, 3, 22]\n",
      "10: [2, 5]\n",
      "9: [3, 9]\n",
      "8: [2, 4, 8]\n",
      "7: [7, 2, 14]\n",
      "6: [2, 4, 6, 3, 8, 10, 12, 14, 18]\n",
      "5: [5, 10, 15, 20, 2, 3, 7]\n",
      "4: [2, 4, 8]\n",
      "3: [3, 6, 9, 12, 15, 2, 18, 27, 5]\n",
      "2: [2, 4, 6, 8, 10, 12, 14, 16, 18, 20, 7, 3, 22, 28, 5, 30]\n",
      "1: [3, 2, 11, 5, 7]\n"
     ]
    }
   ],
   "source": [
    "key = \"THISISAVERYLONGKEYWITHABITOFREPETITIONINIT\"\n",
    "for i in range(1, len(key)):\n",
    "    new_key = key[:-i]\n",
    "    cipher = vigenere(text, new_key, 1)\n",
    "    res = hist_analysis(cipher)\n",
    "    pks = get_prev_keys(res)\n",
    "    print(f\"{len(new_key)}: {pks}\")"
   ]
  }
 ],
 "metadata": {
  "kernelspec": {
   "display_name": "Python 3 (ipykernel)",
   "language": "python",
   "name": "python3"
  },
  "language_info": {
   "codemirror_mode": {
    "name": "ipython",
    "version": 3
   },
   "file_extension": ".py",
   "mimetype": "text/x-python",
   "name": "python",
   "nbconvert_exporter": "python",
   "pygments_lexer": "ipython3",
   "version": "3.9.7"
  }
 },
 "nbformat": 4,
 "nbformat_minor": 5
}
