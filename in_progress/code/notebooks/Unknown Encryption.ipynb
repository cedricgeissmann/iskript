{
 "cells": [
  {
   "cell_type": "markdown",
   "metadata": {},
   "source": [
    "# Unbekannte Codierung\n"
   ]
  },
  {
   "cell_type": "code",
   "execution_count": 21,
   "metadata": {
    "scrolled": false
   },
   "outputs": [
    {
     "data": {
      "application/vnd.jupyter.widget-view+json": {
       "model_id": "9f5d3f5a25ee40d5b81378d9fc922657",
       "version_major": 2,
       "version_minor": 0
      },
      "text/plain": [
       "VBox(children=(HTML(value='<h3>Which-Code? (HINT: I = J)</h3>'), Text(value='', description='Plaintext: '), Bu…"
      ]
     },
     "metadata": {},
     "output_type": "display_data"
    }
   ],
   "source": [
    "import ipywidgets as wdg\n",
    "\n",
    "html = wdg.HTML(\"<h3>Which-Code? (HINT: I = J)</h3>\")\n",
    "in_text = wdg.Text(description=\"Plaintext: \")\n",
    "out_text = wdg.HTML(\"\")\n",
    "button = wdg.Button(description='Encode Now!')\n",
    "\n",
    "layout = wdg.VBox([html, in_text, button, out_text])\n",
    "\n",
    "a = array([[\"A\",\"B\",\"C\",\"D\",\"E\"], [\"F\",\"G\",\"H\",\"I\",\"K\"],[\"L\",\"M\",\"N\",\"O\",\"P\"],[\"Q\",\"R\",\"S\",\"T\",\"U\"],[\"V\",\"W\",\"X\",\"Y\",\"Z\"]])\n",
    "\n",
    "def find(element, matrix):\n",
    "    for i in range(len(matrix)):\n",
    "        for j in range(len(matrix[i])):\n",
    "            if matrix[i][j] == element:\n",
    "                return (i, j)\n",
    "\n",
    "def unknown_encrypt(text):\n",
    "    text = text.upper()\n",
    "    res = \"Ciphertext: \"\n",
    "    for c in text:\n",
    "        if ord(c) == 74:\n",
    "            c = \"R\"\n",
    "        elif ord(c) >= 65 and ord(c) <= 90:\n",
    "            c = a[find(c,a)[1]][find(c,a)[0]]\n",
    "        res = res + c\n",
    "    return res\n",
    "\n",
    "    \n",
    "def on_button_clicked(args):\n",
    "    out_text.value = unknown_encrypt(in_text.value)\n",
    "    \n",
    "button.on_click(on_button_clicked)\n",
    "\n",
    "layout"
   ]
  },
  {
   "cell_type": "code",
   "execution_count": 25,
   "metadata": {},
   "outputs": [
    {
     "data": {
      "application/vnd.jupyter.widget-view+json": {
       "model_id": "0bfb3996574740df8e9950d748063ba5",
       "version_major": 2,
       "version_minor": 0
      },
      "text/plain": [
       "VBox(children=(HTML(value='<h3>Caesar-Code</h3>'), Text(value='', description='Plaintext: '), Button(descripti…"
      ]
     },
     "metadata": {},
     "output_type": "display_data"
    }
   ],
   "source": [
    "import ipywidgets as wdg\n",
    "\n",
    "html = wdg.HTML(\"<h3>Caesar-Code</h3>\")\n",
    "in_text = wdg.Text(description=\"Plaintext: \")\n",
    "out_text = wdg.HTML(\"\")\n",
    "button = wdg.Button(description='Encode Now!')\n",
    "\n",
    "layout = wdg.VBox([html, in_text, button, out_text])\n",
    "\n",
    "def caesar_encrypt(text):\n",
    "    text = text.upper()\n",
    "    res = \"Ciphertext: \"\n",
    "    shift = 10\n",
    "    for c in text:\n",
    "        if ord(c) >= 97 and ord(c) <= 122:\n",
    "            sc = ord(c) - 97\n",
    "            sc = (sc + shift) % 26\n",
    "            sc = sc + 97\n",
    "        elif ord(c) >= 65 and ord(c) <= 90:\n",
    "            sc = ord(c) - 65\n",
    "            sc = (sc + shift) % 26\n",
    "            sc = sc + 65\n",
    "        else:\n",
    "            sc = ord(c)\n",
    "        res = res + chr(sc)\n",
    "        shift = shift + 1 % 26\n",
    "    return res\n",
    "\n",
    "    \n",
    "def on_button_clicked(args):\n",
    "    out_text.value = caesar_encrypt(in_text.value)\n",
    "    \n",
    "button.on_click(on_button_clicked)\n",
    "\n",
    "layout"
   ]
  }
 ],
 "metadata": {
  "kernelspec": {
   "display_name": "Python 3",
   "language": "python",
   "name": "python3"
  },
  "language_info": {
   "codemirror_mode": {
    "name": "ipython",
    "version": 3
   },
   "file_extension": ".py",
   "mimetype": "text/x-python",
   "name": "python",
   "nbconvert_exporter": "python",
   "pygments_lexer": "ipython3",
   "version": "3.8.3rc1"
  }
 },
 "nbformat": 4,
 "nbformat_minor": 4
}
