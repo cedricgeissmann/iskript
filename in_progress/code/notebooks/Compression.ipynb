{
 "cells": [
  {
   "cell_type": "markdown",
   "metadata": {},
   "source": [
    "# Compression\n",
    "No discussion of data and computers would be complete without at least a passing glance at compression. Everything we do on computers is limited. Either in terms of storage space or in terms of bandwidth. We distinguish two types of compression **lossless** and **lossy**. The **compression ratio** is the ratio between the original file size and the compressed file size. \n",
    "\n",
    "As with so many things there is a trade off between accuracy and size. If we need exact representations of our data, say a professional photographer or medical professional we would only use lossless compressions where we may get a larger compression ratio. However if we are saving a funny cat video for TikTok a reduction in image quality may well be acceptable.\n",
    "\n",
    "We will look at some basic principles in compression."
   ]
  },
  {
   "cell_type": "markdown",
   "metadata": {},
   "source": [
    "## Run-length Encoding\n",
    "In many data representations a single value may be repeated multiple times in a row. For example in a picture of a landscape many of the blue pixels in the sky may have the same value. So instead of writing bbbbbbbbbbbbbbbbbbbbbbbbbb 26 times, we could instead encode this as 26\\*b. Depending on how monotonous the original file was this could result in a dramatic decrease in file size. "
   ]
  },
  {
   "cell_type": "markdown",
   "metadata": {},
   "source": [
    "## Keyword Encoding\n",
    "In text files many words - such as 'the', 'and' or 'which' - occur quite often, whereas others only occur very seldom - such as 'obfuscation'. We can encode the commonly used words with single symbols and replace them in the text. So for example we could replace each 'the' with a '^'. Of course this only works if the symbol we are using does not occur in the text. Also the dictionary for the translation has to be shorter than the entirety of the text we are replacing otherwise there is no compression effect. \n",
    "\n",
    "Something similar to keyword encoding is also used in images, where similar images areas may only be encoded once and then referenced again at other places. The emphasis here is on similar because this has gone horribly wrong in the past. See: https://www.youtube.com/watch?v=7FeqF1-Z1g0\n",
    "(Optional Homework: This video takes about an hour to watch, but is worth every second.)"
   ]
  },
  {
   "cell_type": "code",
   "execution_count": null,
   "metadata": {},
   "outputs": [],
   "source": []
  }
 ],
 "metadata": {
  "kernelspec": {
   "display_name": "Python 3",
   "language": "python",
   "name": "python3"
  },
  "language_info": {
   "codemirror_mode": {
    "name": "ipython",
    "version": 3
   },
   "file_extension": ".py",
   "mimetype": "text/x-python",
   "name": "python",
   "nbconvert_exporter": "python",
   "pygments_lexer": "ipython3",
   "version": "3.8.3rc1"
  }
 },
 "nbformat": 4,
 "nbformat_minor": 4
}
