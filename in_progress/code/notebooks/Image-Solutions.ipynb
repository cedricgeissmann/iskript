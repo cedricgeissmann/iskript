{
 "cells": [
  {
   "cell_type": "code",
   "execution_count": 4,
   "metadata": {},
   "outputs": [
    {
     "data": {
      "application/vnd.jupyter.widget-view+json": {
       "model_id": "cd7371bd346742249dfb38be89fdfdea",
       "version_major": 2,
       "version_minor": 0
      },
      "text/plain": [
       "Canvas(height=150, sync_image_data=True, width=150)"
      ]
     },
     "metadata": {},
     "output_type": "display_data"
    }
   ],
   "source": [
    "# Solution 1\n",
    "\n",
    "from gymmu. images import *\n",
    "\n",
    "data = [1, 0, 1, 0, 0, 1, 0, 1, 1, 0, 1, 0, 0, 1, 0, 1] \n",
    "\n",
    "write_image_from_data ( data )"
   ]
  },
  {
   "cell_type": "code",
   "execution_count": 5,
   "metadata": {},
   "outputs": [
    {
     "data": {
      "application/vnd.jupyter.widget-view+json": {
       "model_id": "40de9f4c187b4512af4647a76ef9db89",
       "version_major": 2,
       "version_minor": 0
      },
      "text/plain": [
       "Canvas(height=150, sync_image_data=True, width=150)"
      ]
     },
     "metadata": {},
     "output_type": "display_data"
    }
   ],
   "source": [
    "# Solution 2\n",
    "\n",
    "from gymmu. images import * \n",
    "\n",
    "data = []\n",
    "for i in range(100): \n",
    "    data.append(i * 0.01)\n",
    "\n",
    "write_image_from_data(data)"
   ]
  },
  {
   "cell_type": "code",
   "execution_count": 8,
   "metadata": {},
   "outputs": [
    {
     "data": {
      "application/vnd.jupyter.widget-view+json": {
       "model_id": "fe2a272c1f6345288990afff9b71c8d0",
       "version_major": 2,
       "version_minor": 0
      },
      "text/plain": [
       "Canvas(height=150, sync_image_data=True, width=150)"
      ]
     },
     "metadata": {},
     "output_type": "display_data"
    }
   ],
   "source": [
    "# Solution 3\n",
    "\n",
    "from gymmu. images import * \n",
    "\n",
    "data = []\n",
    "\n",
    "for i in range(100): \n",
    "    data.append(i % 2)\n",
    "    \n",
    "write_image_from_data(data)"
   ]
  },
  {
   "cell_type": "code",
   "execution_count": 11,
   "metadata": {},
   "outputs": [
    {
     "data": {
      "application/vnd.jupyter.widget-view+json": {
       "model_id": "9eaf5497afa243d29ac2a460fac48288",
       "version_major": 2,
       "version_minor": 0
      },
      "text/plain": [
       "Canvas(height=150, sync_image_data=True, width=150)"
      ]
     },
     "metadata": {},
     "output_type": "display_data"
    }
   ],
   "source": [
    "# Solution 4\n",
    "# i iterates through the rows and j iterates through each pixel in a row\n",
    "# the modulo operator (%2) gives a zero if the preceding number is even \n",
    "# and 1 if the preceding number is odd.\n",
    "\n",
    "from gymmu. images import *\n",
    "\n",
    "data = []\n",
    "for i in range(10):\n",
    "    for j in range(10):\n",
    "        data.append((i + j) % 2) \n",
    "        \n",
    "write_image_from_data(data)"
   ]
  },
  {
   "cell_type": "code",
   "execution_count": 14,
   "metadata": {},
   "outputs": [
    {
     "data": {
      "application/vnd.jupyter.widget-view+json": {
       "model_id": "e6a434c85f4d456488b82687ca3d2d9a",
       "version_major": 2,
       "version_minor": 0
      },
      "text/plain": [
       "Canvas(height=150, sync_image_data=True, width=150)"
      ]
     },
     "metadata": {},
     "output_type": "display_data"
    }
   ],
   "source": [
    "# Solution 5\n",
    "# We can use the code from the previous exercise.\n",
    "# change the range, and add one to i + j (which changes even numbers to odd ones.)\n",
    "\n",
    "from gymmu. images import *\n",
    "\n",
    "data = []\n",
    "for i in range(16):\n",
    "    for j in range(16):\n",
    "        data.append((i + j + 1) % 2) \n",
    "        \n",
    "write_image_from_data(data)"
   ]
  },
  {
   "cell_type": "code",
   "execution_count": 15,
   "metadata": {},
   "outputs": [
    {
     "data": {
      "application/vnd.jupyter.widget-view+json": {
       "model_id": "4cad1e2fa770450aac2a3f56f9be0a61",
       "version_major": 2,
       "version_minor": 0
      },
      "text/plain": [
       "Canvas(height=150, sync_image_data=True, width=150)"
      ]
     },
     "metadata": {},
     "output_type": "display_data"
    }
   ],
   "source": [
    "# Solution 6 \n",
    "\n",
    "from gymmu. images import * \n",
    "\n",
    "data = [\n",
    "    1,0,0, \n",
    "    0,1,0, \n",
    "    0,0,1,\n",
    "    0,0,0, \n",
    "]\n",
    "\n",
    "write_image_from_data_colored(data)"
   ]
  },
  {
   "cell_type": "code",
   "execution_count": 19,
   "metadata": {},
   "outputs": [
    {
     "data": {
      "application/vnd.jupyter.widget-view+json": {
       "model_id": "f7b9ca79f93140569f8831ab0c656a1a",
       "version_major": 2,
       "version_minor": 0
      },
      "text/plain": [
       "Canvas(height=150, sync_image_data=True, width=150)"
      ]
     },
     "metadata": {},
     "output_type": "display_data"
    }
   ],
   "source": [
    "# Solution 7\n",
    "\n",
    "# cyan 0,1,1\n",
    "# magenta 1,0,1\n",
    "# yellow 1,1,0\n",
    "# white 1,1,1\n",
    "\n",
    "from gymmu. images import * \n",
    "\n",
    "data = [\n",
    "    0,1,1, \n",
    "    1,0,1, \n",
    "    1,1,0,\n",
    "    1,1,1, \n",
    "]\n",
    "\n",
    "write_image_from_data_colored(data)"
   ]
  },
  {
   "cell_type": "code",
   "execution_count": 20,
   "metadata": {},
   "outputs": [
    {
     "data": {
      "application/vnd.jupyter.widget-view+json": {
       "model_id": "7c7729f06f634b91a14bb8523024108c",
       "version_major": 2,
       "version_minor": 0
      },
      "text/plain": [
       "Canvas(height=171, sync_image_data=True, width=1024)"
      ]
     },
     "metadata": {},
     "output_type": "display_data"
    }
   ],
   "source": [
    "from gymmu.images import *\n",
    "\n",
    "url = 'https://www.gym-muttenz.ch/fileadmin/user_upload/_headerbilder/3.jpg'\n",
    "data, width = load_image_data(url)\n",
    "write_image_rgb(data, width)"
   ]
  },
  {
   "cell_type": "code",
   "execution_count": 22,
   "metadata": {},
   "outputs": [
    {
     "data": {
      "application/vnd.jupyter.widget-view+json": {
       "model_id": "0590f71d0d8d40f0bc612cd13a83bf76",
       "version_major": 2,
       "version_minor": 0
      },
      "text/plain": [
       "Canvas(height=171, sync_image_data=True, width=1024)"
      ]
     },
     "metadata": {},
     "output_type": "display_data"
    }
   ],
   "source": [
    "# Solution 8a\n",
    "\n",
    "from gymmu.images import *\n",
    "\n",
    "url = 'https://www.gym-muttenz.ch/fileadmin/user_upload/_headerbilder/3.jpg'\n",
    "data, width = load_image_data(url)\n",
    "\n",
    "for i in range(1, int(len(data)/2), 3):\n",
    "    data[i] = 0\n",
    "    \n",
    "write_image_rgb(data, width)"
   ]
  },
  {
   "cell_type": "code",
   "execution_count": 24,
   "metadata": {},
   "outputs": [
    {
     "data": {
      "application/vnd.jupyter.widget-view+json": {
       "model_id": "b416b53ac0c141ff86b6089faf73629d",
       "version_major": 2,
       "version_minor": 0
      },
      "text/plain": [
       "Canvas(height=171, sync_image_data=True, width=1024)"
      ]
     },
     "metadata": {},
     "output_type": "display_data"
    }
   ],
   "source": [
    "# Solution 8b\n",
    "\n",
    "from gymmu.images import *\n",
    "\n",
    "url = 'https://www.gym-muttenz.ch/fileadmin/user_upload/_headerbilder/3.jpg'\n",
    "data, width = load_image_data(url)\n",
    "\n",
    "for i in range(1, int(len(data)/2), 3):\n",
    "    data[i] = 0\n",
    "    data[i+int(len(data)/2)-1] = 0\n",
    "    \n",
    "write_image_rgb(data, width)"
   ]
  },
  {
   "cell_type": "code",
   "execution_count": 25,
   "metadata": {},
   "outputs": [
    {
     "data": {
      "application/vnd.jupyter.widget-view+json": {
       "model_id": "9f7eb92b42ab4d5b9526bf5853d4b1a1",
       "version_major": 2,
       "version_minor": 0
      },
      "text/plain": [
       "Canvas(height=171, sync_image_data=True, width=1024)"
      ]
     },
     "metadata": {},
     "output_type": "display_data"
    }
   ],
   "source": [
    "# Easier Solution 8b\n",
    "\n",
    "from gymmu.images import *\n",
    "\n",
    "url = 'https://www.gym-muttenz.ch/fileadmin/user_upload/_headerbilder/3.jpg'\n",
    "data, width = load_image_data(url)\n",
    "\n",
    "# upper bound half the length of the data list\n",
    "# we need the int() function to ensure that the counter is an integer\n",
    "\n",
    "for i in range(1, int(len(data)/2), 3):\n",
    "    data[i] = 0\n",
    "\n",
    "# lower bound of range is half the length of the data list\n",
    "# upper bound of range is the length of the data list\n",
    "\n",
    "for i in range(int(len(data)/2),len(data),3):\n",
    "    data[i] = 0\n",
    "    \n",
    "write_image_rgb(data, width)"
   ]
  },
  {
   "cell_type": "code",
   "execution_count": 26,
   "metadata": {},
   "outputs": [
    {
     "data": {
      "application/vnd.jupyter.widget-view+json": {
       "model_id": "be9b418b355a460aab2c9d3486c1f900",
       "version_major": 2,
       "version_minor": 0
      },
      "text/plain": [
       "Canvas(height=150, sync_image_data=True, width=150)"
      ]
     },
     "metadata": {},
     "output_type": "display_data"
    }
   ],
   "source": [
    "# Solution 9\n",
    "\n",
    "from gymmu. images import *\n",
    "\n",
    "data = []\n",
    "\n",
    "for i in range(256):\n",
    "    data.append(i) \n",
    "    data.append(0) \n",
    "    data.append(0)\n",
    "    \n",
    "write_image_from_data_rgb(data)"
   ]
  },
  {
   "cell_type": "code",
   "execution_count": 1,
   "metadata": {},
   "outputs": [
    {
     "data": {
      "application/vnd.jupyter.widget-view+json": {
       "model_id": "3260fa311df84a94aa41915674c40a38",
       "version_major": 2,
       "version_minor": 0
      },
      "text/plain": [
       "Canvas(height=150, sync_image_data=True, width=150)"
      ]
     },
     "metadata": {},
     "output_type": "display_data"
    }
   ],
   "source": [
    "# Solution 10\n",
    "\n",
    "# We can use the code from the previous exercise\n",
    "# Magenta is (255,0,255) \n",
    "# so we need to go from white (255,255,255) to magenta\n",
    "# this means that the green channel should change from 255 down to 0.\n",
    "\n",
    "from gymmu. images import *\n",
    "\n",
    "data = []\n",
    "\n",
    "for i in range(256):\n",
    "    data.append(255) \n",
    "    data.append(255-i) \n",
    "    data.append(255)\n",
    "    \n",
    "write_image_from_data_rgb(data)"
   ]
  },
  {
   "cell_type": "code",
   "execution_count": 12,
   "metadata": {},
   "outputs": [
    {
     "data": {
      "application/vnd.jupyter.widget-view+json": {
       "model_id": "34e78a7b66724f41a03a2218b9beb9ce",
       "version_major": 2,
       "version_minor": 0
      },
      "text/plain": [
       "Canvas(height=150, sync_image_data=True, width=150)"
      ]
     },
     "metadata": {},
     "output_type": "display_data"
    }
   ],
   "source": [
    "from gymmu.images import *\n",
    "\n",
    "data = []\n",
    "\n",
    "for i in range(5):\n",
    "    for j in range(10):\n",
    "        data.append((j+1) % 2)\n",
    "    for k in range(10):\n",
    "        data.append(k % 2)\n",
    "\n",
    "\n",
    "write_image_from_data(data)"
   ]
  },
  {
   "cell_type": "code",
   "execution_count": null,
   "metadata": {},
   "outputs": [],
   "source": []
  },
  {
   "cell_type": "code",
   "execution_count": 13,
   "metadata": {},
   "outputs": [
    {
     "name": "stdout",
     "output_type": "stream",
     "text": [
      "[0, 255, 0, 255, 0, 0, 0, 255, 0, 255, 0, 0, 0, 255, 0, 255, 0, 0, 0, 255, 0, 255, 0, 0, 0, 255, 0, 255, 0, 0, 255, 0, 0, 0, 255, 0, 255, 0, 0, 0, 255, 0, 255, 0, 0, 0, 255, 0, 255, 0, 0, 0, 255, 0, 255, 0, 0, 0, 255, 0, 0, 255, 0, 255, 0, 0, 0, 255, 0, 255, 0, 0, 0, 255, 0, 255, 0, 0, 0, 255, 0, 255, 0, 0, 0, 255, 0, 255, 0, 0, 255, 0, 0, 0, 255, 0, 255, 0, 0, 0, 255, 0, 255, 0, 0, 0, 255, 0, 255, 0, 0, 0, 255, 0, 255, 0, 0, 0, 255, 0, 0, 255, 0, 255, 0, 0, 0, 255, 0, 255, 0, 0, 0, 255, 0, 255, 0, 0, 0, 255, 0, 255, 0, 0, 0, 255, 0, 255, 0, 0, 255, 0, 0, 0, 255, 0, 255, 0, 0, 0, 255, 0, 255, 0, 0, 0, 255, 0, 255, 0, 0, 0, 255, 0, 255, 0, 0, 0, 255, 0, 0, 255, 0, 255, 0, 0, 0, 255, 0, 255, 0, 0, 0, 255, 0, 255, 0, 0, 0, 255, 0, 255, 0, 0, 0, 255, 0, 255, 0, 0, 255, 0, 0, 0, 255, 0, 255, 0, 0, 0, 255, 0, 255, 0, 0, 0, 255, 0, 255, 0, 0, 0, 255, 0, 255, 0, 0, 0, 255, 0, 0, 255, 0, 255, 0, 0, 0, 255, 0, 255, 0, 0, 0, 255, 0, 255, 0, 0, 0, 255, 0, 255, 0, 0, 0, 255, 0, 255, 0, 0, 255, 0, 0, 0, 255, 0, 255, 0, 0, 0, 255, 0, 255, 0, 0, 0, 255, 0, 255, 0, 0, 0, 255, 0, 255, 0, 0, 0, 255, 0]\n"
     ]
    },
    {
     "data": {
      "application/vnd.jupyter.widget-view+json": {
       "model_id": "add6ba004bf14fc2bca7bd41d6ac5cb3",
       "version_major": 2,
       "version_minor": 0
      },
      "text/plain": [
       "Canvas(height=150, sync_image_data=True, width=150)"
      ]
     },
     "metadata": {},
     "output_type": "display_data"
    }
   ],
   "source": [
    "from gymmu.images import *\n",
    "\n",
    "data = []\n",
    "\n",
    "for j in range(10):\n",
    "    for i in range(30):\n",
    "        data.append(((i+j)%2)*255)\n",
    "        \n",
    "for i in range(5,300,3):\n",
    "    data[i]=0\n",
    "\n",
    "\n",
    "\n",
    "print(data)\n",
    "\n",
    "\n",
    "\n",
    "write_image_from_data_rgb(data)"
   ]
  },
  {
   "cell_type": "code",
   "execution_count": 1,
   "metadata": {},
   "outputs": [
    {
     "data": {
      "application/vnd.jupyter.widget-view+json": {
       "model_id": "b6476a53652a4786a26179194226abaa",
       "version_major": 2,
       "version_minor": 0
      },
      "text/plain": [
       "Canvas(height=150, sync_image_data=True, width=150)"
      ]
     },
     "metadata": {},
     "output_type": "display_data"
    }
   ],
   "source": [
    "from gymmu.images import *\n",
    "\n",
    "data = []\n",
    "\n",
    "for i in range(10):\n",
    "    for j in range(10):\n",
    "        data.append((i+j+1) % 2)\n",
    "\n",
    "\n",
    "write_image_from_data(data)"
   ]
  },
  {
   "cell_type": "code",
   "execution_count": 5,
   "metadata": {},
   "outputs": [
    {
     "data": {
      "application/vnd.jupyter.widget-view+json": {
       "model_id": "468dd4d9e633497889e885a80e858cea",
       "version_major": 2,
       "version_minor": 0
      },
      "text/plain": [
       "Canvas(height=150, sync_image_data=True, width=150)"
      ]
     },
     "metadata": {},
     "output_type": "display_data"
    }
   ],
   "source": [
    "from gymmu.images import *\n",
    "\n",
    "data = []\n",
    "\n",
    "for i in range(10):\n",
    "    for j in range(10):\n",
    "        data.append(((i+j) % 2)*255)\n",
    "        data.append(((i+j+1) % 2)*128)\n",
    "        data.append(0)\n",
    "\n",
    "\n",
    "write_image_from_data_rgb(data)"
   ]
  },
  {
   "cell_type": "code",
   "execution_count": 2,
   "metadata": {},
   "outputs": [
    {
     "data": {
      "application/vnd.jupyter.widget-view+json": {
       "model_id": "5d2fb88c2da54be09ab4220162ea064d",
       "version_major": 2,
       "version_minor": 0
      },
      "text/plain": [
       "Canvas(height=150, sync_image_data=True, width=150)"
      ]
     },
     "metadata": {},
     "output_type": "display_data"
    }
   ],
   "source": [
    "from gymmu.images import *\n",
    "\n",
    "data = []\n",
    "\n",
    "for i in range(25):\n",
    "    data.append((i+1) % 2)\n",
    "\n",
    "\n",
    "write_image_from_data(data)"
   ]
  },
  {
   "cell_type": "code",
   "execution_count": null,
   "metadata": {},
   "outputs": [],
   "source": []
  },
  {
   "cell_type": "code",
   "execution_count": 4,
   "metadata": {},
   "outputs": [
    {
     "data": {
      "application/vnd.jupyter.widget-view+json": {
       "model_id": "97d5417aa4334a8391e855ae21469ddc",
       "version_major": 2,
       "version_minor": 0
      },
      "text/plain": [
       "Canvas(height=150, sync_image_data=True, width=150)"
      ]
     },
     "metadata": {},
     "output_type": "display_data"
    }
   ],
   "source": [
    "from gymmu.images import *\n",
    "\n",
    "data = []\n",
    "\n",
    "for i in range(100):\n",
    "    data.append(0)\n",
    "    data.append(255)\n",
    "    data.append(255)\n",
    "    \n",
    "for i in range(0,300,6):\n",
    "    data[i] = 0\n",
    "\n",
    "\n",
    "write_image_from_data_rgb(data)"
   ]
  },
  {
   "cell_type": "code",
   "execution_count": 6,
   "metadata": {},
   "outputs": [
    {
     "data": {
      "application/vnd.jupyter.widget-view+json": {
       "model_id": "0b58c82c2f914b758ffe062e7092238d",
       "version_major": 2,
       "version_minor": 0
      },
      "text/plain": [
       "Canvas(height=150, sync_image_data=True, width=150)"
      ]
     },
     "metadata": {},
     "output_type": "display_data"
    }
   ],
   "source": [
    "from gymmu.images import *\n",
    "\n",
    "data = []\n",
    "\n",
    "data.append(255)\n",
    "data.append(128)\n",
    "data.append(128)\n",
    "\n",
    "\n",
    "\n",
    "write_image_from_data_rgb(data)"
   ]
  },
  {
   "cell_type": "code",
   "execution_count": 6,
   "metadata": {},
   "outputs": [
    {
     "data": {
      "application/vnd.jupyter.widget-view+json": {
       "model_id": "ee730f77d686459197565f65539150d2",
       "version_major": 2,
       "version_minor": 0
      },
      "text/plain": [
       "Canvas(height=150, sync_image_data=True, width=150)"
      ]
     },
     "metadata": {},
     "output_type": "display_data"
    }
   ],
   "source": [
    "from gymmu.images import *\n",
    "\n",
    "data = [0,255,0,128,128,128,255,0,255,255,128,128]\n",
    "\n",
    "\n",
    "\n",
    "write_image_from_data_rgb(data)"
   ]
  },
  {
   "cell_type": "code",
   "execution_count": 17,
   "metadata": {},
   "outputs": [
    {
     "name": "stdout",
     "output_type": "stream",
     "text": [
      "[1, 0, 1, 0, 1, 0, 1, 0, 1, 0, 1, 0, 1, 0, 1, 0]\n"
     ]
    },
    {
     "data": {
      "application/vnd.jupyter.widget-view+json": {
       "model_id": "a9750eb3b436499fb293b1494aa592b8",
       "version_major": 2,
       "version_minor": 0
      },
      "text/plain": [
       "Canvas(height=150, sync_image_data=True, width=150)"
      ]
     },
     "metadata": {},
     "output_type": "display_data"
    }
   ],
   "source": [
    "from gymmu.images import *\n",
    "\n",
    "data = []\n",
    "\n",
    "for i in range(16):\n",
    "    data.append((i+1)%2)\n",
    "\n",
    "print(data)\n",
    "\n",
    "\n",
    "write_image_from_data(data)"
   ]
  },
  {
   "cell_type": "code",
   "execution_count": 12,
   "metadata": {},
   "outputs": [
    {
     "data": {
      "application/vnd.jupyter.widget-view+json": {
       "model_id": "f7914b839f104cb399de2c8157418329",
       "version_major": 2,
       "version_minor": 0
      },
      "text/plain": [
       "Canvas(height=150, sync_image_data=True, width=150)"
      ]
     },
     "metadata": {},
     "output_type": "display_data"
    }
   ],
   "source": [
    "from gymmu.images import *\n",
    "from random import randint\n",
    "\n",
    "data = []\n",
    "\n",
    "for i in range(0,300,3):\n",
    "    data.append(randint(0,255))\n",
    "    data.append(randint(0,128))\n",
    "    data.append(randint(128,255))\n",
    "    \n",
    "for i in range(0,300,3):\n",
    "    data[i] = 0\n",
    "\n",
    "\n",
    "write_image_from_data_rgb(data)"
   ]
  },
  {
   "cell_type": "code",
   "execution_count": 13,
   "metadata": {},
   "outputs": [
    {
     "data": {
      "application/vnd.jupyter.widget-view+json": {
       "model_id": "76466752e68b44f69184f8dbb99e5cd1",
       "version_major": 2,
       "version_minor": 0
      },
      "text/plain": [
       "Canvas(height=150, sync_image_data=True, width=150)"
      ]
     },
     "metadata": {},
     "output_type": "display_data"
    }
   ],
   "source": [
    "from gymmu.images import *\n",
    "from random import randint\n",
    "\n",
    "data = []\n",
    "\n",
    "for i in range(0,300,3):\n",
    "    data.append(randint(0,255))\n",
    "    data.append(randint(0,128))\n",
    "    data.append(randint(128,255))\n",
    "    \n",
    "for i in range(1,150,3):\n",
    "    data[i] = 0\n",
    "    data[i+150] = 255\n",
    "    \n",
    "\n",
    "\n",
    "write_image_from_data_rgb(data)"
   ]
  },
  {
   "cell_type": "code",
   "execution_count": 15,
   "metadata": {},
   "outputs": [
    {
     "data": {
      "application/vnd.jupyter.widget-view+json": {
       "model_id": "55585d457dae4004b00b8bddd4bd0f72",
       "version_major": 2,
       "version_minor": 0
      },
      "text/plain": [
       "Canvas(height=150, sync_image_data=True, width=150)"
      ]
     },
     "metadata": {},
     "output_type": "display_data"
    }
   ],
   "source": [
    "from gymmu.images import *\n",
    "\n",
    "data = [0,0,176,160,32,64,128,127,0,137,57,31]\n",
    "\n",
    "\n",
    "\n",
    "write_image_from_data_rgb(data)"
   ]
  },
  {
   "cell_type": "code",
   "execution_count": 16,
   "metadata": {},
   "outputs": [
    {
     "data": {
      "application/vnd.jupyter.widget-view+json": {
       "model_id": "4c9512fdc58c486dae16f3cdb8f19f20",
       "version_major": 2,
       "version_minor": 0
      },
      "text/plain": [
       "Canvas(height=150, sync_image_data=True, width=150)"
      ]
     },
     "metadata": {},
     "output_type": "display_data"
    }
   ],
   "source": [
    "from gymmu.images import *\n",
    "\n",
    "data = [0,0,255,160,32,64,128,127,0,255,255,0]\n",
    "\n",
    "\n",
    "\n",
    "write_image_from_data_rgb(data)"
   ]
  }
 ],
 "metadata": {
  "kernelspec": {
   "display_name": "Python 3",
   "language": "python",
   "name": "python3"
  },
  "language_info": {
   "codemirror_mode": {
    "name": "ipython",
    "version": 3
   },
   "file_extension": ".py",
   "mimetype": "text/x-python",
   "name": "python",
   "nbconvert_exporter": "python",
   "pygments_lexer": "ipython3",
   "version": "3.8.3rc1"
  }
 },
 "nbformat": 4,
 "nbformat_minor": 4
}
