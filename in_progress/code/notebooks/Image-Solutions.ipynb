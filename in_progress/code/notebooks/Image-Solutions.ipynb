{
 "cells": [
  {
   "cell_type": "code",
   "execution_count": 4,
   "metadata": {},
   "outputs": [
    {
     "data": {
      "application/vnd.jupyter.widget-view+json": {
       "model_id": "cd7371bd346742249dfb38be89fdfdea",
       "version_major": 2,
       "version_minor": 0
      },
      "text/plain": [
       "Canvas(height=150, sync_image_data=True, width=150)"
      ]
     },
     "metadata": {},
     "output_type": "display_data"
    }
   ],
   "source": [
    "# Solution 1\n",
    "\n",
    "from gymmu. images import *\n",
    "\n",
    "data = [1, 0, 1, 0, 0, 1, 0, 1, 1, 0, 1, 0, 0, 1, 0, 1] \n",
    "\n",
    "write_image_from_data ( data )"
   ]
  },
  {
   "cell_type": "code",
   "execution_count": 5,
   "metadata": {},
   "outputs": [
    {
     "data": {
      "application/vnd.jupyter.widget-view+json": {
       "model_id": "40de9f4c187b4512af4647a76ef9db89",
       "version_major": 2,
       "version_minor": 0
      },
      "text/plain": [
       "Canvas(height=150, sync_image_data=True, width=150)"
      ]
     },
     "metadata": {},
     "output_type": "display_data"
    }
   ],
   "source": [
    "# Solution 2\n",
    "\n",
    "from gymmu. images import * \n",
    "\n",
    "data = []\n",
    "for i in range(100): \n",
    "    data.append(i * 0.01)\n",
    "\n",
    "write_image_from_data(data)"
   ]
  },
  {
   "cell_type": "code",
   "execution_count": 8,
   "metadata": {},
   "outputs": [
    {
     "data": {
      "application/vnd.jupyter.widget-view+json": {
       "model_id": "fe2a272c1f6345288990afff9b71c8d0",
       "version_major": 2,
       "version_minor": 0
      },
      "text/plain": [
       "Canvas(height=150, sync_image_data=True, width=150)"
      ]
     },
     "metadata": {},
     "output_type": "display_data"
    }
   ],
   "source": [
    "# Solution 3\n",
    "\n",
    "from gymmu. images import * \n",
    "\n",
    "data = []\n",
    "\n",
    "for i in range(100): \n",
    "    data.append(i % 2)\n",
    "    \n",
    "write_image_from_data(data)"
   ]
  },
  {
   "cell_type": "code",
   "execution_count": 11,
   "metadata": {},
   "outputs": [
    {
     "data": {
      "application/vnd.jupyter.widget-view+json": {
       "model_id": "9eaf5497afa243d29ac2a460fac48288",
       "version_major": 2,
       "version_minor": 0
      },
      "text/plain": [
       "Canvas(height=150, sync_image_data=True, width=150)"
      ]
     },
     "metadata": {},
     "output_type": "display_data"
    }
   ],
   "source": [
    "# Solution 4\n",
    "# i iterates through the rows and j iterates through each pixel in a row\n",
    "# the modulo operator (%2) gives a zero if the preceding number is even \n",
    "# and 1 if the preceding number is odd.\n",
    "\n",
    "from gymmu. images import *\n",
    "\n",
    "data = []\n",
    "for i in range(10):\n",
    "    for j in range(10):\n",
    "        data.append((i + j) % 2) \n",
    "        \n",
    "write_image_from_data(data)"
   ]
  },
  {
   "cell_type": "code",
   "execution_count": 14,
   "metadata": {},
   "outputs": [
    {
     "data": {
      "application/vnd.jupyter.widget-view+json": {
       "model_id": "e6a434c85f4d456488b82687ca3d2d9a",
       "version_major": 2,
       "version_minor": 0
      },
      "text/plain": [
       "Canvas(height=150, sync_image_data=True, width=150)"
      ]
     },
     "metadata": {},
     "output_type": "display_data"
    }
   ],
   "source": [
    "# Solution 5\n",
    "# We can use the code from the previous exercise.\n",
    "# change the range, and add one to i + j (which changes even numbers to odd ones.)\n",
    "\n",
    "from gymmu. images import *\n",
    "\n",
    "data = []\n",
    "for i in range(16):\n",
    "    for j in range(16):\n",
    "        data.append((i + j + 1) % 2) \n",
    "        \n",
    "write_image_from_data(data)"
   ]
  },
  {
   "cell_type": "code",
   "execution_count": 15,
   "metadata": {},
   "outputs": [
    {
     "data": {
      "application/vnd.jupyter.widget-view+json": {
       "model_id": "4cad1e2fa770450aac2a3f56f9be0a61",
       "version_major": 2,
       "version_minor": 0
      },
      "text/plain": [
       "Canvas(height=150, sync_image_data=True, width=150)"
      ]
     },
     "metadata": {},
     "output_type": "display_data"
    }
   ],
   "source": [
    "# Solution 6 \n",
    "\n",
    "from gymmu. images import * \n",
    "\n",
    "data = [\n",
    "    1,0,0, \n",
    "    0,1,0, \n",
    "    0,0,1,\n",
    "    0,0,0, \n",
    "]\n",
    "\n",
    "write_image_from_data_colored(data)"
   ]
  },
  {
   "cell_type": "code",
   "execution_count": 19,
   "metadata": {},
   "outputs": [
    {
     "data": {
      "application/vnd.jupyter.widget-view+json": {
       "model_id": "f7b9ca79f93140569f8831ab0c656a1a",
       "version_major": 2,
       "version_minor": 0
      },
      "text/plain": [
       "Canvas(height=150, sync_image_data=True, width=150)"
      ]
     },
     "metadata": {},
     "output_type": "display_data"
    }
   ],
   "source": [
    "# Solution 7\n",
    "\n",
    "# cyan 0,1,1\n",
    "# magenta 1,0,1\n",
    "# yellow 1,1,0\n",
    "# white 1,1,1\n",
    "\n",
    "from gymmu. images import * \n",
    "\n",
    "data = [\n",
    "    0,1,1, \n",
    "    1,0,1, \n",
    "    1,1,0,\n",
    "    1,1,1, \n",
    "]\n",
    "\n",
    "write_image_from_data_colored(data)"
   ]
  },
  {
   "cell_type": "code",
   "execution_count": null,
   "metadata": {},
   "outputs": [],
   "source": []
  }
 ],
 "metadata": {
  "kernelspec": {
   "display_name": "Python 3",
   "language": "python",
   "name": "python3"
  },
  "language_info": {
   "codemirror_mode": {
    "name": "ipython",
    "version": 3
   },
   "file_extension": ".py",
   "mimetype": "text/x-python",
   "name": "python",
   "nbconvert_exporter": "python",
   "pygments_lexer": "ipython3",
   "version": "3.8.3rc1"
  }
 },
 "nbformat": 4,
 "nbformat_minor": 4
}
