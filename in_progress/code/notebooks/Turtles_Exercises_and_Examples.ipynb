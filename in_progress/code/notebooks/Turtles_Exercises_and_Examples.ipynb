{
 "cells": [
  {
   "cell_type": "code",
   "execution_count": 2,
   "metadata": {},
   "outputs": [
    {
     "data": {
      "application/vnd.jupyter.widget-view+json": {
       "model_id": "fa3ffba4642348889e4e774c3874526a",
       "version_major": 2,
       "version_minor": 0
      },
      "text/plain": [
       "Canvas(height=400, sync_image_data=True, width=400)"
      ]
     },
     "metadata": {},
     "output_type": "display_data"
    }
   ],
   "source": [
    "# Lösung zu Aufgabe 6\n",
    "from gymmu.turtle import *\n",
    "\n",
    "def draw_square():\n",
    "    for i in range(4):\n",
    "        forward(50)\n",
    "        turn(90)\n",
    "        \n",
    "def draw_triangle():\n",
    "    for i in range(3):\n",
    "        forward(50)\n",
    "        turn(120)\n",
    "\n",
    "make_turtle()\n",
    "\n",
    "forward(-75)\n",
    "\n",
    "for i in range(3):\n",
    "    draw_square()\n",
    "    turn(90)\n",
    "    forward(50)\n",
    "    turn(-90)\n",
    "    draw_triangle()\n",
    "\n",
    "    pen_up()\n",
    "    forward(50)\n",
    "    turn(-90)\n",
    "    forward(50)\n",
    "    turn(90)\n",
    "    pen_down()\n",
    "\n",
    "show()"
   ]
  },
  {
   "cell_type": "code",
   "execution_count": 29,
   "metadata": {},
   "outputs": [
    {
     "data": {
      "application/vnd.jupyter.widget-view+json": {
       "model_id": "2432cd76a00c44e1bd836d4bcb269f5f",
       "version_major": 2,
       "version_minor": 0
      },
      "text/plain": [
       "Canvas(height=400, sync_image_data=True, width=400)"
      ]
     },
     "metadata": {},
     "output_type": "display_data"
    }
   ],
   "source": [
    "from gymmu.turtle import *\n",
    "\n",
    "make_turtle()\n",
    "\n",
    "forward(80)\n",
    "turn(90)\n",
    "forward(80)\n",
    "turn(-90)\n",
    "forward(-80)\n",
    "turn(-90)\n",
    "forward(-80)\n",
    "turn(90)\n",
    "forward(80)\n",
    "\n",
    "show()"
   ]
  },
  {
   "cell_type": "code",
   "execution_count": 32,
   "metadata": {},
   "outputs": [
    {
     "data": {
      "application/vnd.jupyter.widget-view+json": {
       "model_id": "22d34376e5b64eb69348f370b6082290",
       "version_major": 2,
       "version_minor": 0
      },
      "text/plain": [
       "Canvas(height=400, sync_image_data=True, width=400)"
      ]
     },
     "metadata": {},
     "output_type": "display_data"
    }
   ],
   "source": [
    "from gymmu.turtle import *\n",
    "\n",
    "make_turtle()\n",
    "\n",
    "forward(80)\n",
    "turn(90)\n",
    "forward(80)\n",
    "turn(-90)\n",
    "forward(80)\n",
    "turn(90)\n",
    "forward(80)\n",
    "turn(-90)\n",
    "forward(80)\n",
    "\n",
    "show()"
   ]
  },
  {
   "cell_type": "code",
   "execution_count": 95,
   "metadata": {},
   "outputs": [],
   "source": [
    "# save_image(\"res/three_houses.png\")"
   ]
  },
  {
   "cell_type": "code",
   "execution_count": 3,
   "metadata": {},
   "outputs": [
    {
     "data": {
      "application/vnd.jupyter.widget-view+json": {
       "model_id": "fd7bdd6ca170438096f4e2a017fd6961",
       "version_major": 2,
       "version_minor": 0
      },
      "text/plain": [
       "Canvas(height=400, sync_image_data=True, width=400)"
      ]
     },
     "metadata": {},
     "output_type": "display_data"
    }
   ],
   "source": [
    "from gymmu.turtle import *\n",
    "\n",
    "def draw_square(a):\n",
    "    for i in range(4):\n",
    "        forward(a)\n",
    "        turn(90)\n",
    "        \n",
    "def draw_triangle(b):\n",
    "    for i in range(3):\n",
    "        forward(b)\n",
    "        turn(120)\n",
    "        \n",
    "def jump(n):\n",
    "    pen_up()\n",
    "    forward(n)\n",
    "    pen_down()\n",
    "    \n",
    "def jump_to(x,y):\n",
    "    reset()\n",
    "    pen_up()\n",
    "    forward(x-200)\n",
    "    turn(90)\n",
    "    forward(y-200)\n",
    "    turn(-90)\n",
    "    pen_down()\n",
    "\n",
    "make_turtle()\n",
    "\n",
    "jump_to(100,100)\n",
    "\n",
    "draw_square(150)\n",
    "jump(75)\n",
    "color('red')\n",
    "stroke_width(50)\n",
    "turn(90)\n",
    "forward(50)\n",
    "\n",
    "reset()\n",
    "jump_to(100,100)\n",
    "color('blue')\n",
    "turn(90)\n",
    "jump(150)\n",
    "turn(-90)\n",
    "\n",
    "draw_triangle(150)\n",
    "\n",
    "jump_to(150,200)\n",
    "stroke_width(30)\n",
    "turn(90)\n",
    "forward(20)\n",
    "\n",
    "jump_to(200,200)\n",
    "stroke_width(30)\n",
    "turn(90)\n",
    "forward(20)\n",
    "\n",
    "show()"
   ]
  },
  {
   "cell_type": "code",
   "execution_count": 4,
   "metadata": {},
   "outputs": [
    {
     "data": {
      "application/vnd.jupyter.widget-view+json": {
       "model_id": "5f79144c9b2c403d841fda2aa8dee9db",
       "version_major": 2,
       "version_minor": 0
      },
      "text/plain": [
       "Canvas(height=400, sync_image_data=True, width=400)"
      ]
     },
     "metadata": {},
     "output_type": "display_data"
    }
   ],
   "source": [
    "from gymmu.turtle import *\n",
    "\n",
    "def draw_square(a):\n",
    "    for i in range(4):\n",
    "        forward(a)\n",
    "        turn(90)\n",
    "\n",
    "def filled_square(n):\n",
    "    for i in range(n):\n",
    "        draw_square(i)\n",
    "\n",
    "make_turtle()\n",
    "\n",
    "color('yellow')\n",
    "stroke_width(1.1)\n",
    "\n",
    "filled_square(100)\n",
    "\n",
    "show()"
   ]
  },
  {
   "cell_type": "code",
   "execution_count": 5,
   "metadata": {},
   "outputs": [
    {
     "data": {
      "application/vnd.jupyter.widget-view+json": {
       "model_id": "8f8f31f7694744f8a703744594e4f3a6",
       "version_major": 2,
       "version_minor": 0
      },
      "text/plain": [
       "Canvas(height=400, sync_image_data=True, width=400)"
      ]
     },
     "metadata": {},
     "output_type": "display_data"
    }
   ],
   "source": [
    "from gymmu.turtle import *\n",
    "\n",
    "make_turtle()\n",
    "\n",
    "for i in range(5):\n",
    "    forward(200)\n",
    "    turn(-144)\n",
    "    \n",
    "show()"
   ]
  },
  {
   "cell_type": "code",
   "execution_count": 142,
   "metadata": {},
   "outputs": [
    {
     "data": {
      "application/vnd.jupyter.widget-view+json": {
       "model_id": "41b5f5f7aeaa4e6fbc24a2fe2066ed62",
       "version_major": 2,
       "version_minor": 0
      },
      "text/plain": [
       "Canvas(height=400, sync_image_data=True, width=400)"
      ]
     },
     "metadata": {},
     "output_type": "display_data"
    }
   ],
   "source": [
    "from gymmu.turtle import *\n",
    "\n",
    "make_turtle()\n",
    "\n",
    "for i in range(8):\n",
    "    forward(25)\n",
    "    turn(90)\n",
    "    forward(15)\n",
    "    turn(-90)\n",
    "\n",
    "    \n",
    "show()"
   ]
  },
  {
   "cell_type": "code",
   "execution_count": 6,
   "metadata": {},
   "outputs": [
    {
     "data": {
      "application/vnd.jupyter.widget-view+json": {
       "model_id": "ad63958d8d3d4685b73e94d0992d0c0c",
       "version_major": 2,
       "version_minor": 0
      },
      "text/plain": [
       "Canvas(height=400, sync_image_data=True, width=400)"
      ]
     },
     "metadata": {},
     "output_type": "display_data"
    }
   ],
   "source": [
    "from gymmu.turtle import *\n",
    "\n",
    "def jump_to(x,y):\n",
    "    reset()\n",
    "    pen_up()\n",
    "    forward(x-200)\n",
    "    turn(90)\n",
    "    forward(y-200)\n",
    "    turn(-90)\n",
    "    pen_down()\n",
    "\n",
    "make_turtle()\n",
    "\n",
    "jump_to(100,100)\n",
    "\n",
    "forward(185)\n",
    "turn(90)\n",
    "forward(185)\n",
    "turn(45)\n",
    "forward(131)\n",
    "turn(90)\n",
    "forward(131)\n",
    "turn(45)\n",
    "forward(185)\n",
    "turn(135)\n",
    "forward(262)\n",
    "turn(135)\n",
    "forward(185)\n",
    "turn(135)\n",
    "forward(262)\n",
    "\n",
    "    \n",
    "show()"
   ]
  },
  {
   "cell_type": "code",
   "execution_count": 7,
   "metadata": {},
   "outputs": [
    {
     "data": {
      "application/vnd.jupyter.widget-view+json": {
       "model_id": "9245630ad9734b61baea49f6809fde88",
       "version_major": 2,
       "version_minor": 0
      },
      "text/plain": [
       "Canvas(height=400, sync_image_data=True, width=400)"
      ]
     },
     "metadata": {},
     "output_type": "display_data"
    }
   ],
   "source": [
    "from gymmu.turtle import *\n",
    "\n",
    "make_turtle()\n",
    "\n",
    "for i in range(8):\n",
    "    forward(100)\n",
    "    turn(180)\n",
    "    forward(100)\n",
    "    turn(360/8)\n",
    "    \n",
    "show()"
   ]
  },
  {
   "cell_type": "code",
   "execution_count": 8,
   "metadata": {},
   "outputs": [
    {
     "data": {
      "application/vnd.jupyter.widget-view+json": {
       "model_id": "1e60f154f6fc43878176fb51cff44581",
       "version_major": 2,
       "version_minor": 0
      },
      "text/plain": [
       "Canvas(height=400, sync_image_data=True, width=400)"
      ]
     },
     "metadata": {},
     "output_type": "display_data"
    }
   ],
   "source": [
    "from gymmu.turtle import *\n",
    "\n",
    "make_turtle()\n",
    "\n",
    "for i in range(20):\n",
    "    forward(i*10)\n",
    "    turn(-144)\n",
    "    \n",
    "show()"
   ]
  },
  {
   "cell_type": "code",
   "execution_count": 9,
   "metadata": {},
   "outputs": [
    {
     "data": {
      "application/vnd.jupyter.widget-view+json": {
       "model_id": "25bdd190dee448278e3fd7f830eeccf7",
       "version_major": 2,
       "version_minor": 0
      },
      "text/plain": [
       "Canvas(height=400, sync_image_data=True, width=400)"
      ]
     },
     "metadata": {},
     "output_type": "display_data"
    }
   ],
   "source": [
    "from gymmu.turtle import *\n",
    "\n",
    "make_turtle()\n",
    "\n",
    "color('blue')\n",
    "\n",
    "for i in range(50):\n",
    "    forward(100)\n",
    "    turn(123)\n",
    "    \n",
    "reset()\n",
    "pen_up()\n",
    "forward(-100)\n",
    "pen_down()\n",
    "\n",
    "color('red')\n",
    "\n",
    "for i in range(50):\n",
    "    forward(100)\n",
    "    turn(123)\n",
    "\n",
    "    \n",
    "show()"
   ]
  },
  {
   "cell_type": "code",
   "execution_count": 10,
   "metadata": {},
   "outputs": [
    {
     "data": {
      "application/vnd.jupyter.widget-view+json": {
       "model_id": "88875d5b76264b5bb037434a2a30f22b",
       "version_major": 2,
       "version_minor": 0
      },
      "text/plain": [
       "Canvas(height=400, sync_image_data=True, width=400)"
      ]
     },
     "metadata": {},
     "output_type": "display_data"
    }
   ],
   "source": [
    "from gymmu.turtle import *\n",
    "\n",
    "make_turtle()\n",
    "\n",
    "for i in range(20):\n",
    "    forward(i*10)\n",
    "    turn(-90)\n",
    "    \n",
    "show()"
   ]
  },
  {
   "cell_type": "code",
   "execution_count": 11,
   "metadata": {},
   "outputs": [
    {
     "data": {
      "application/vnd.jupyter.widget-view+json": {
       "model_id": "50730c15bc8943249f20e32be82c4049",
       "version_major": 2,
       "version_minor": 0
      },
      "text/plain": [
       "Canvas(height=400, sync_image_data=True, width=400)"
      ]
     },
     "metadata": {},
     "output_type": "display_data"
    }
   ],
   "source": [
    "from gymmu.turtle import *\n",
    "\n",
    "def jump(n):\n",
    "    pen_up()\n",
    "    forward(n)\n",
    "    pen_down()\n",
    "\n",
    "make_turtle()\n",
    "\n",
    "for i in range(10):\n",
    "    show()\n",
    "    jump(15)\n",
    "\n",
    "show()"
   ]
  },
  {
   "cell_type": "code",
   "execution_count": 12,
   "metadata": {},
   "outputs": [
    {
     "data": {
      "application/vnd.jupyter.widget-view+json": {
       "model_id": "f36db7b2eaf84013953f257ef804f387",
       "version_major": 2,
       "version_minor": 0
      },
      "text/plain": [
       "Canvas(height=400, sync_image_data=True, width=400)"
      ]
     },
     "metadata": {},
     "output_type": "display_data"
    }
   ],
   "source": [
    "from gymmu.turtle import *\n",
    "\n",
    "def jump(n):\n",
    "    pen_up()\n",
    "    forward(n)\n",
    "    pen_down()\n",
    "\n",
    "def draw_square(a):\n",
    "    for i in range(4):\n",
    "        forward(a)\n",
    "        turn(90)\n",
    "\n",
    "make_turtle()\n",
    "\n",
    "for i in range(10):\n",
    "    for j in range(10):\n",
    "        color('red')\n",
    "        stroke_width(5)\n",
    "        draw_square(1)\n",
    "        jump(15)\n",
    "    turn(90)\n",
    "    jump(15)\n",
    "    turn(-90)\n",
    "    jump(-10*15)\n",
    "    \n",
    "show()"
   ]
  },
  {
   "cell_type": "code",
   "execution_count": 13,
   "metadata": {},
   "outputs": [
    {
     "data": {
      "application/vnd.jupyter.widget-view+json": {
       "model_id": "69826b4baa6c4f6ead30fb9219b40131",
       "version_major": 2,
       "version_minor": 0
      },
      "text/plain": [
       "Canvas(height=400, sync_image_data=True, width=400)"
      ]
     },
     "metadata": {},
     "output_type": "display_data"
    }
   ],
   "source": [
    "from gymmu.turtle import *\n",
    "\n",
    "def jump(n):\n",
    "    pen_up()\n",
    "    forward(n)\n",
    "    pen_down()\n",
    "\n",
    "def draw_square(a):\n",
    "    for i in range(4):\n",
    "        forward(a)\n",
    "        turn(90)\n",
    "\n",
    "make_turtle()\n",
    "\n",
    "for i in range(10):\n",
    "    for j in range(10):\n",
    "        color('red')\n",
    "        stroke_width(3)\n",
    "        draw_square(3)\n",
    "        jump(15)\n",
    "    turn(90)\n",
    "    jump(15)\n",
    "    turn(-90)\n",
    "    jump(-10*15)\n",
    "    \n",
    "show()"
   ]
  },
  {
   "cell_type": "code",
   "execution_count": 14,
   "metadata": {},
   "outputs": [
    {
     "data": {
      "application/vnd.jupyter.widget-view+json": {
       "model_id": "ae1ff74fe7ed4da29a64bab06f6cc7b5",
       "version_major": 2,
       "version_minor": 0
      },
      "text/plain": [
       "Canvas(height=400, sync_image_data=True, width=400)"
      ]
     },
     "metadata": {},
     "output_type": "display_data"
    }
   ],
   "source": [
    "from gymmu.turtle import *\n",
    "\n",
    "make_turtle()\n",
    "\n",
    "def draw_circle():\n",
    "    for i in range(360):\n",
    "        forward(1)\n",
    "        turn(1)\n",
    "\n",
    "draw_circle()\n",
    "    \n",
    "show()"
   ]
  },
  {
   "cell_type": "code",
   "execution_count": 15,
   "metadata": {},
   "outputs": [
    {
     "data": {
      "application/vnd.jupyter.widget-view+json": {
       "model_id": "16509a742d684535901d2f0c4e56bca7",
       "version_major": 2,
       "version_minor": 0
      },
      "text/plain": [
       "Canvas(height=400, sync_image_data=True, width=400)"
      ]
     },
     "metadata": {},
     "output_type": "display_data"
    }
   ],
   "source": [
    "from gymmu.turtle import *\n",
    "\n",
    "colors = ['red', 'purple', 'blue', 'green', 'orange', 'yellow']\n",
    "\n",
    "def draw_circle():\n",
    "    for i in range(6):\n",
    "        color(colors[i])\n",
    "        for j in range(60):\n",
    "            forward(1)\n",
    "            turn(1)\n",
    "\n",
    "make_turtle()\n",
    "\n",
    "draw_circle()\n",
    "    \n",
    "show()"
   ]
  },
  {
   "cell_type": "code",
   "execution_count": 16,
   "metadata": {},
   "outputs": [
    {
     "data": {
      "application/vnd.jupyter.widget-view+json": {
       "model_id": "69b18552f8bd4a2a97cc89b77123d6d5",
       "version_major": 2,
       "version_minor": 0
      },
      "text/plain": [
       "Canvas(height=400, sync_image_data=True, width=400)"
      ]
     },
     "metadata": {},
     "output_type": "display_data"
    }
   ],
   "source": [
    "from gymmu.turtle import *\n",
    "\n",
    "make_turtle()\n",
    "\n",
    "def draw_spiral():\n",
    "    for i in range(360):\n",
    "        forward(i/5)\n",
    "        turn(360/(i+1))\n",
    "\n",
    "draw_spiral()\n",
    "    \n",
    "show()"
   ]
  },
  {
   "cell_type": "code",
   "execution_count": 17,
   "metadata": {},
   "outputs": [
    {
     "data": {
      "application/vnd.jupyter.widget-view+json": {
       "model_id": "d088d7b3e5e146c4b72768e97c2c8460",
       "version_major": 2,
       "version_minor": 0
      },
      "text/plain": [
       "Canvas(height=400, sync_image_data=True, width=400)"
      ]
     },
     "metadata": {},
     "output_type": "display_data"
    }
   ],
   "source": [
    "from gymmu.turtle import *\n",
    "\n",
    "make_turtle()\n",
    "\n",
    "for j in range(9):\n",
    "    turn(-60)\n",
    "    for i in range(120):\n",
    "        forward(1)\n",
    "        turn(1)\n",
    "    turn(60)\n",
    "    for i in range(120):\n",
    "        forward(1)\n",
    "        turn(1)\n",
    "    turn(40)\n",
    "\n",
    "    \n",
    "show()"
   ]
  },
  {
   "cell_type": "code",
   "execution_count": 18,
   "metadata": {},
   "outputs": [
    {
     "data": {
      "application/vnd.jupyter.widget-view+json": {
       "model_id": "47950dd9271244629d73acd63589b768",
       "version_major": 2,
       "version_minor": 0
      },
      "text/plain": [
       "Canvas(height=400, sync_image_data=True, width=400)"
      ]
     },
     "metadata": {},
     "output_type": "display_data"
    }
   ],
   "source": [
    "from gymmu.turtle import *\n",
    "\n",
    "def draw_arc(a):\n",
    "    for i in range(a):\n",
    "        forward(1)\n",
    "        turn(1)\n",
    "\n",
    "make_turtle()\n",
    "\n",
    "turn(-60)\n",
    "for i in range(2):\n",
    "    draw_arc(120)\n",
    "    turn(60)\n",
    "\n",
    "    \n",
    "show()"
   ]
  },
  {
   "cell_type": "code",
   "execution_count": 19,
   "metadata": {},
   "outputs": [
    {
     "data": {
      "application/vnd.jupyter.widget-view+json": {
       "model_id": "6b1041a0a7244a30bbf35e0c9b4183b0",
       "version_major": 2,
       "version_minor": 0
      },
      "text/plain": [
       "Canvas(height=400, sync_image_data=True, width=400)"
      ]
     },
     "metadata": {},
     "output_type": "display_data"
    }
   ],
   "source": [
    "from gymmu.turtle import *\n",
    "\n",
    "def draw_arc(a):\n",
    "    for i in range(a):\n",
    "        forward(1)\n",
    "        turn(1)\n",
    "\n",
    "make_turtle()\n",
    "\n",
    "for j in range(9):\n",
    "    for i in range(2):\n",
    "        draw_arc(120)\n",
    "        turn(60)\n",
    "    turn(40)\n",
    "    \n",
    "show()"
   ]
  },
  {
   "cell_type": "code",
   "execution_count": 33,
   "metadata": {},
   "outputs": [
    {
     "data": {
      "application/vnd.jupyter.widget-view+json": {
       "model_id": "1aaf210a07414f55987d29cb4f420130",
       "version_major": 2,
       "version_minor": 0
      },
      "text/plain": [
       "Canvas(height=400, sync_image_data=True, width=400)"
      ]
     },
     "metadata": {},
     "output_type": "display_data"
    }
   ],
   "source": [
    "from gymmu.turtle import *\n",
    "\n",
    "colors = ['red', 'purple', 'blue', 'green', 'orange', 'yellow']\n",
    "\n",
    "\n",
    "make_turtle()\n",
    "\n",
    "for x in range(360):\n",
    "    color(colors[x%6])\n",
    "    stroke_width(x/100 + 1)\n",
    "    forward(x)\n",
    "    turn(59)\n",
    "\n",
    "show()"
   ]
  },
  {
   "cell_type": "code",
   "execution_count": 37,
   "metadata": {},
   "outputs": [
    {
     "data": {
      "application/vnd.jupyter.widget-view+json": {
       "model_id": "8b7deb00175748d598059ec40a88d2a2",
       "version_major": 2,
       "version_minor": 0
      },
      "text/plain": [
       "Canvas(height=400, sync_image_data=True, width=400)"
      ]
     },
     "metadata": {},
     "output_type": "display_data"
    }
   ],
   "source": [
    "from gymmu.turtle import *\n",
    "\n",
    "colors = ['red', 'purple', 'blue', 'green']\n",
    "\n",
    "\n",
    "make_turtle()\n",
    "\n",
    "for x in range(360):\n",
    "    color(colors[x%4])\n",
    "    stroke_width(x/200 + 1)\n",
    "    forward(x)\n",
    "    turn(89)\n",
    "\n",
    "show()"
   ]
  },
  {
   "cell_type": "code",
   "execution_count": 44,
   "metadata": {},
   "outputs": [
    {
     "data": {
      "application/vnd.jupyter.widget-view+json": {
       "model_id": "a60ab465dfed466a9525f993b7b286c7",
       "version_major": 2,
       "version_minor": 0
      },
      "text/plain": [
       "Canvas(height=400, sync_image_data=True, width=400)"
      ]
     },
     "metadata": {},
     "output_type": "display_data"
    }
   ],
   "source": [
    "from gymmu.turtle import *\n",
    "from math import pi\n",
    "\n",
    "\n",
    "\n",
    "make_turtle()\n",
    "\n",
    "def draw_circle(n):\n",
    "    for i in range(360):\n",
    "        forward(n)\n",
    "        turn(n)\n",
    "\n",
    "draw_circle(1)\n",
    "    \n",
    "show()"
   ]
  }
 ],
 "metadata": {
  "kernelspec": {
   "display_name": "Python 3",
   "language": "python",
   "name": "python3"
  },
  "language_info": {
   "codemirror_mode": {
    "name": "ipython",
    "version": 3
   },
   "file_extension": ".py",
   "mimetype": "text/x-python",
   "name": "python",
   "nbconvert_exporter": "python",
   "pygments_lexer": "ipython3",
   "version": "3.8.3rc1"
  }
 },
 "nbformat": 4,
 "nbformat_minor": 4
}
