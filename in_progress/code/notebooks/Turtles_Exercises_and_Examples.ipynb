{
 "cells": [
  {
   "cell_type": "code",
   "execution_count": 1,
   "metadata": {},
   "outputs": [
    {
     "data": {
      "application/vnd.jupyter.widget-view+json": {
       "model_id": "a7307a5f670c494bac19060edefb797c",
       "version_major": 2,
       "version_minor": 0
      },
      "text/plain": [
       "Canvas(height=400, sync_image_data=True, width=400)"
      ]
     },
     "metadata": {},
     "output_type": "display_data"
    }
   ],
   "source": [
    "from gymmu.turtle import *\n",
    "\n",
    "colors = ['red', 'purple', 'blue', 'green', 'orange', 'yellow']\n",
    "\n",
    "\n",
    "make_turtle()\n",
    "\n",
    "for x in range(360):\n",
    "    color(colors[x%6])\n",
    "    stroke_width(x/100 + 1)\n",
    "    forward(x)\n",
    "    turn(59)\n",
    "\n",
    "show()"
   ]
  },
  {
   "cell_type": "code",
   "execution_count": 3,
   "metadata": {},
   "outputs": [
    {
     "data": {
      "application/vnd.jupyter.widget-view+json": {
       "model_id": "7135b75c69604f86976411fa80605c2d",
       "version_major": 2,
       "version_minor": 0
      },
      "text/plain": [
       "Canvas(height=400, sync_image_data=True, width=400)"
      ]
     },
     "metadata": {},
     "output_type": "display_data"
    }
   ],
   "source": [
    "# Lösung zu Aufgabe 6\n",
    "from gymmu.turtle import *\n",
    "\n",
    "def draw_square():\n",
    "    for i in range(4):\n",
    "        forward(50)\n",
    "        turn(90)\n",
    "        \n",
    "def draw_triangle():\n",
    "    for i in range(3):\n",
    "        forward(50)\n",
    "        turn(120)\n",
    "\n",
    "make_turtle()\n",
    "\n",
    "forward(-75)\n",
    "\n",
    "for i in range(3):\n",
    "    draw_square()\n",
    "    turn(90)\n",
    "    forward(50)\n",
    "    turn(-90)\n",
    "    draw_triangle()\n",
    "\n",
    "    pen_up()\n",
    "    forward(50)\n",
    "    turn(-90)\n",
    "    forward(50)\n",
    "    turn(90)\n",
    "    pen_down()\n",
    "\n",
    "show()"
   ]
  },
  {
   "cell_type": "code",
   "execution_count": 4,
   "metadata": {},
   "outputs": [],
   "source": [
    "# save_image(\"res/three_houses.png\")"
   ]
  },
  {
   "cell_type": "code",
   "execution_count": null,
   "metadata": {},
   "outputs": [],
   "source": []
  }
 ],
 "metadata": {
  "kernelspec": {
   "display_name": "Python 3",
   "language": "python",
   "name": "python3"
  },
  "language_info": {
   "codemirror_mode": {
    "name": "ipython",
    "version": 3
   },
   "file_extension": ".py",
   "mimetype": "text/x-python",
   "name": "python",
   "nbconvert_exporter": "python",
   "pygments_lexer": "ipython3",
   "version": "3.8.3rc1"
  }
 },
 "nbformat": 4,
 "nbformat_minor": 4
}
