{
 "cells": [
  {
   "cell_type": "code",
   "execution_count": 1,
   "metadata": {},
   "outputs": [
    {
     "data": {
      "application/vnd.jupyter.widget-view+json": {
       "model_id": "a7307a5f670c494bac19060edefb797c",
       "version_major": 2,
       "version_minor": 0
      },
      "text/plain": [
       "Canvas(height=400, sync_image_data=True, width=400)"
      ]
     },
     "metadata": {},
     "output_type": "display_data"
    }
   ],
   "source": [
    "from gymmu.turtle import *\n",
    "\n",
    "colors = ['red', 'purple', 'blue', 'green', 'orange', 'yellow']\n",
    "\n",
    "\n",
    "make_turtle()\n",
    "\n",
    "for x in range(360):\n",
    "    color(colors[x%6])\n",
    "    stroke_width(x/100 + 1)\n",
    "    forward(x)\n",
    "    turn(59)\n",
    "\n",
    "show()"
   ]
  },
  {
   "cell_type": "code",
   "execution_count": 94,
   "metadata": {},
   "outputs": [
    {
     "data": {
      "application/vnd.jupyter.widget-view+json": {
       "model_id": "96906f1b2e6241469c36b5b75d9d5ad0",
       "version_major": 2,
       "version_minor": 0
      },
      "text/plain": [
       "Canvas(height=400, sync_image_data=True, width=400)"
      ]
     },
     "metadata": {},
     "output_type": "display_data"
    }
   ],
   "source": [
    "# Lösung zu Aufgabe 6\n",
    "from gymmu.turtle import *\n",
    "\n",
    "def draw_square():\n",
    "    for i in range(4):\n",
    "        forward(50)\n",
    "        turn(90)\n",
    "        \n",
    "def draw_triangle():\n",
    "    for i in range(3):\n",
    "        forward(50)\n",
    "        turn(120)\n",
    "\n",
    "make_turtle()\n",
    "\n",
    "forward(-75)\n",
    "\n",
    "for i in range(3):\n",
    "    draw_square()\n",
    "    turn(90)\n",
    "    forward(50)\n",
    "    turn(-90)\n",
    "    draw_triangle()\n",
    "\n",
    "    pen_up()\n",
    "    forward(50)\n",
    "    turn(-90)\n",
    "    forward(50)\n",
    "    turn(90)\n",
    "    pen_down()\n",
    "\n",
    "show()"
   ]
  },
  {
   "cell_type": "code",
   "execution_count": null,
   "metadata": {},
   "outputs": [],
   "source": []
  },
  {
   "cell_type": "code",
   "execution_count": 95,
   "metadata": {},
   "outputs": [],
   "source": [
    "# save_image(\"res/three_houses.png\")"
   ]
  },
  {
   "cell_type": "code",
   "execution_count": 112,
   "metadata": {},
   "outputs": [
    {
     "data": {
      "application/vnd.jupyter.widget-view+json": {
       "model_id": "fa973689c01d437092a3b85b6c4b7b97",
       "version_major": 2,
       "version_minor": 0
      },
      "text/plain": [
       "Canvas(height=400, sync_image_data=True, width=400)"
      ]
     },
     "metadata": {},
     "output_type": "display_data"
    }
   ],
   "source": [
    "from gymmu.turtle import *\n",
    "\n",
    "def draw_square(a):\n",
    "    for i in range(4):\n",
    "        forward(a)\n",
    "        turn(90)\n",
    "        \n",
    "def draw_triangle(b):\n",
    "    for i in range(3):\n",
    "        forward(b)\n",
    "        turn(120)\n",
    "        \n",
    "def jump(n):\n",
    "    pen_up()\n",
    "    forward(n)\n",
    "    pen_down()\n",
    "    \n",
    "def jump_to(x,y):\n",
    "    reset()\n",
    "    pen_up()\n",
    "    forward(x-200)\n",
    "    turn(90)\n",
    "    forward(y-200)\n",
    "    turn(-90)\n",
    "    pen_down()\n",
    "\n",
    "make_turtle()\n",
    "\n",
    "jump_to(100,100)\n",
    "\n",
    "draw_square(150)\n",
    "jump(75)\n",
    "color('red')\n",
    "stroke_width(50)\n",
    "turn(90)\n",
    "forward(50)\n",
    "\n",
    "reset()\n",
    "jump_to(100,100)\n",
    "color('blue')\n",
    "turn(90)\n",
    "jump(150)\n",
    "turn(-90)\n",
    "\n",
    "draw_triangle(150)\n",
    "\n",
    "jump_to(150,200)\n",
    "stroke_width(30)\n",
    "turn(90)\n",
    "forward(20)\n",
    "\n",
    "jump_to(200,200)\n",
    "stroke_width(30)\n",
    "turn(90)\n",
    "forward(20)\n",
    "\n",
    "show()"
   ]
  },
  {
   "cell_type": "code",
   "execution_count": 121,
   "metadata": {},
   "outputs": [
    {
     "data": {
      "application/vnd.jupyter.widget-view+json": {
       "model_id": "61c84d15f2634dfc9c2ee3e62bececdb",
       "version_major": 2,
       "version_minor": 0
      },
      "text/plain": [
       "Canvas(height=400, sync_image_data=True, width=400)"
      ]
     },
     "metadata": {},
     "output_type": "display_data"
    }
   ],
   "source": [
    "from gymmu.turtle import *\n",
    "\n",
    "def draw_square(a):\n",
    "    for i in range(4):\n",
    "        forward(a)\n",
    "        turn(90)\n",
    "\n",
    "def filled_square(n):\n",
    "    for i in range(n):\n",
    "        draw_square(i)\n",
    "\n",
    "make_turtle()\n",
    "\n",
    "color('yellow')\n",
    "stroke_width(1.1)\n",
    "\n",
    "filled_square(100)\n",
    "\n",
    "show()"
   ]
  },
  {
   "cell_type": "code",
   "execution_count": 9,
   "metadata": {},
   "outputs": [
    {
     "data": {
      "application/vnd.jupyter.widget-view+json": {
       "model_id": "636c464eb9d24ac3b31de64d05784a14",
       "version_major": 2,
       "version_minor": 0
      },
      "text/plain": [
       "Canvas(height=400, sync_image_data=True, width=400)"
      ]
     },
     "metadata": {},
     "output_type": "display_data"
    }
   ],
   "source": [
    "from gymmu.turtle import *\n",
    "\n",
    "make_turtle()\n",
    "\n",
    "for i in range(5):\n",
    "    forward(200)\n",
    "    turn(-144)\n",
    "    \n",
    "show()"
   ]
  },
  {
   "cell_type": "code",
   "execution_count": 12,
   "metadata": {},
   "outputs": [
    {
     "data": {
      "application/vnd.jupyter.widget-view+json": {
       "model_id": "ca8c44cdc05a4619ad4e2a5a8fc8229b",
       "version_major": 2,
       "version_minor": 0
      },
      "text/plain": [
       "Canvas(height=400, sync_image_data=True, width=400)"
      ]
     },
     "metadata": {},
     "output_type": "display_data"
    }
   ],
   "source": [
    "from gymmu.turtle import *\n",
    "\n",
    "make_turtle()\n",
    "\n",
    "for i in range(20):\n",
    "    forward(i*10)\n",
    "    turn(-144)\n",
    "    \n",
    "show()"
   ]
  },
  {
   "cell_type": "code",
   "execution_count": 27,
   "metadata": {},
   "outputs": [
    {
     "data": {
      "application/vnd.jupyter.widget-view+json": {
       "model_id": "e13de5f6378f4e3c8af934ef7fb2149a",
       "version_major": 2,
       "version_minor": 0
      },
      "text/plain": [
       "Canvas(height=400, sync_image_data=True, width=400)"
      ]
     },
     "metadata": {},
     "output_type": "display_data"
    }
   ],
   "source": [
    "from gymmu.turtle import *\n",
    "\n",
    "make_turtle()\n",
    "\n",
    "color('blue')\n",
    "\n",
    "for i in range(50):\n",
    "    forward(100)\n",
    "    turn(123)\n",
    "    \n",
    "reset()\n",
    "pen_up()\n",
    "forward(-100)\n",
    "pen_down()\n",
    "\n",
    "color('red')\n",
    "\n",
    "for i in range(50):\n",
    "    forward(100)\n",
    "    turn(123)\n",
    "\n",
    "    \n",
    "show()"
   ]
  },
  {
   "cell_type": "code",
   "execution_count": 30,
   "metadata": {},
   "outputs": [
    {
     "data": {
      "application/vnd.jupyter.widget-view+json": {
       "model_id": "d21cc441cb0649b29e9e872abd3dee39",
       "version_major": 2,
       "version_minor": 0
      },
      "text/plain": [
       "Canvas(height=400, sync_image_data=True, width=400)"
      ]
     },
     "metadata": {},
     "output_type": "display_data"
    }
   ],
   "source": [
    "from gymmu.turtle import *\n",
    "\n",
    "make_turtle()\n",
    "\n",
    "for i in range(20):\n",
    "    forward(i*10)\n",
    "    turn(-90)\n",
    "    \n",
    "show()"
   ]
  },
  {
   "cell_type": "code",
   "execution_count": 34,
   "metadata": {},
   "outputs": [
    {
     "data": {
      "application/vnd.jupyter.widget-view+json": {
       "model_id": "9e48a1b5296a422bb7d6545d5665e7f7",
       "version_major": 2,
       "version_minor": 0
      },
      "text/plain": [
       "Canvas(height=400, sync_image_data=True, width=400)"
      ]
     },
     "metadata": {},
     "output_type": "display_data"
    }
   ],
   "source": [
    "from gymmu.turtle import *\n",
    "\n",
    "def jump(n):\n",
    "    pen_up()\n",
    "    forward(n)\n",
    "    pen_down()\n",
    "\n",
    "make_turtle()\n",
    "\n",
    "for i in range(10):\n",
    "    show()\n",
    "    jump(15)\n",
    "\n",
    "show()"
   ]
  },
  {
   "cell_type": "code",
   "execution_count": 74,
   "metadata": {},
   "outputs": [
    {
     "data": {
      "application/vnd.jupyter.widget-view+json": {
       "model_id": "e09c53a470c44d479a1193f4a08808b2",
       "version_major": 2,
       "version_minor": 0
      },
      "text/plain": [
       "Canvas(height=400, sync_image_data=True, width=400)"
      ]
     },
     "metadata": {},
     "output_type": "display_data"
    }
   ],
   "source": [
    "from gymmu.turtle import *\n",
    "\n",
    "def jump(n):\n",
    "    pen_up()\n",
    "    forward(n)\n",
    "    pen_down()\n",
    "\n",
    "def draw_square(a):\n",
    "    for i in range(4):\n",
    "        forward(a)\n",
    "        turn(90)\n",
    "\n",
    "make_turtle()\n",
    "\n",
    "for i in range(10):\n",
    "    for j in range(10):\n",
    "        color('red')\n",
    "        stroke_width(5)\n",
    "        draw_square(1)\n",
    "        jump(15)\n",
    "    turn(90)\n",
    "    jump(15)\n",
    "    turn(-90)\n",
    "    jump(-10*15)\n",
    "    \n",
    "show()"
   ]
  },
  {
   "cell_type": "code",
   "execution_count": 68,
   "metadata": {},
   "outputs": [
    {
     "data": {
      "application/vnd.jupyter.widget-view+json": {
       "model_id": "65c38d096ddb442aabd92c8086b35e10",
       "version_major": 2,
       "version_minor": 0
      },
      "text/plain": [
       "Canvas(height=400, sync_image_data=True, width=400)"
      ]
     },
     "metadata": {},
     "output_type": "display_data"
    }
   ],
   "source": [
    "from gymmu.turtle import *\n",
    "\n",
    "def jump(n):\n",
    "    pen_up()\n",
    "    forward(n)\n",
    "    pen_down()\n",
    "\n",
    "def draw_square(a):\n",
    "    for i in range(4):\n",
    "        forward(a)\n",
    "        turn(90)\n",
    "\n",
    "make_turtle()\n",
    "\n",
    "for i in range(10):\n",
    "    for j in range(10):\n",
    "        color('red')\n",
    "        stroke_width(3)\n",
    "        draw_square(3)\n",
    "        jump(15)\n",
    "    turn(90)\n",
    "    jump(15)\n",
    "    turn(-90)\n",
    "    jump(-10*15)\n",
    "    \n",
    "show()"
   ]
  },
  {
   "cell_type": "code",
   "execution_count": 72,
   "metadata": {},
   "outputs": [
    {
     "data": {
      "application/vnd.jupyter.widget-view+json": {
       "model_id": "75de2ecdeccd45cba47758a00c94441e",
       "version_major": 2,
       "version_minor": 0
      },
      "text/plain": [
       "Canvas(height=400, sync_image_data=True, width=400)"
      ]
     },
     "metadata": {},
     "output_type": "display_data"
    }
   ],
   "source": [
    "from gymmu.turtle import *\n",
    "\n",
    "make_turtle()\n",
    "\n",
    "def draw_circle():\n",
    "    for i in range(360):\n",
    "        forward(1)\n",
    "        turn(1)\n",
    "\n",
    "draw_circle()\n",
    "    \n",
    "show()"
   ]
  },
  {
   "cell_type": "code",
   "execution_count": 83,
   "metadata": {},
   "outputs": [
    {
     "data": {
      "application/vnd.jupyter.widget-view+json": {
       "model_id": "9a2ca72cd48a4b758f5185db9ad66efb",
       "version_major": 2,
       "version_minor": 0
      },
      "text/plain": [
       "Canvas(height=400, sync_image_data=True, width=400)"
      ]
     },
     "metadata": {},
     "output_type": "display_data"
    }
   ],
   "source": [
    "from gymmu.turtle import *\n",
    "\n",
    "colors = ['red', 'purple', 'blue', 'green', 'orange', 'yellow']\n",
    "\n",
    "def draw_circle():\n",
    "    for i in range(6):\n",
    "        color(colors[i])\n",
    "        for j in range(60):\n",
    "            forward(1)\n",
    "            turn(1)\n",
    "\n",
    "make_turtle()\n",
    "\n",
    "draw_circle()\n",
    "    \n",
    "show()"
   ]
  },
  {
   "cell_type": "code",
   "execution_count": 122,
   "metadata": {},
   "outputs": [
    {
     "data": {
      "application/vnd.jupyter.widget-view+json": {
       "model_id": "08b5686bd7c24722b239395238ea3f7f",
       "version_major": 2,
       "version_minor": 0
      },
      "text/plain": [
       "Canvas(height=400, sync_image_data=True, width=400)"
      ]
     },
     "metadata": {},
     "output_type": "display_data"
    }
   ],
   "source": [
    "from gymmu.turtle import *\n",
    "\n",
    "make_turtle()\n",
    "\n",
    "def draw_spiral():\n",
    "    for i in range(360):\n",
    "        forward(i/5)\n",
    "        turn(360/(i+1))\n",
    "\n",
    "draw_spiral()\n",
    "    \n",
    "show()"
   ]
  },
  {
   "cell_type": "code",
   "execution_count": 133,
   "metadata": {},
   "outputs": [
    {
     "data": {
      "application/vnd.jupyter.widget-view+json": {
       "model_id": "2393f3ff89f44630b102ec7e3d1da4bc",
       "version_major": 2,
       "version_minor": 0
      },
      "text/plain": [
       "Canvas(height=400, sync_image_data=True, width=400)"
      ]
     },
     "metadata": {},
     "output_type": "display_data"
    }
   ],
   "source": [
    "from gymmu.turtle import *\n",
    "\n",
    "def draw_arc(a):\n",
    "    for i in range(a):\n",
    "        forward(1)\n",
    "        turn(1)\n",
    "\n",
    "make_turtle()\n",
    "\n",
    "turn(-60)\n",
    "for i in range(2):\n",
    "    draw_arc(120)\n",
    "    turn(60)\n",
    "\n",
    "    \n",
    "show()"
   ]
  },
  {
   "cell_type": "code",
   "execution_count": 129,
   "metadata": {},
   "outputs": [
    {
     "data": {
      "application/vnd.jupyter.widget-view+json": {
       "model_id": "6ee602ffed474e668ce090ff4f83cab0",
       "version_major": 2,
       "version_minor": 0
      },
      "text/plain": [
       "Canvas(height=400, sync_image_data=True, width=400)"
      ]
     },
     "metadata": {},
     "output_type": "display_data"
    }
   ],
   "source": [
    "from gymmu.turtle import *\n",
    "\n",
    "def draw_arc(a):\n",
    "    for i in range(a):\n",
    "        forward(1)\n",
    "        turn(1)\n",
    "\n",
    "make_turtle()\n",
    "\n",
    "for j in range(9):\n",
    "    for i in range(2):\n",
    "        draw_arc(120)\n",
    "        turn(60)\n",
    "    turn(40)\n",
    "    \n",
    "show()"
   ]
  }
 ],
 "metadata": {
  "kernelspec": {
   "display_name": "Python 3",
   "language": "python",
   "name": "python3"
  },
  "language_info": {
   "codemirror_mode": {
    "name": "ipython",
    "version": 3
   },
   "file_extension": ".py",
   "mimetype": "text/x-python",
   "name": "python",
   "nbconvert_exporter": "python",
   "pygments_lexer": "ipython3",
   "version": "3.8.3rc1"
  }
 },
 "nbformat": 4,
 "nbformat_minor": 4
}
