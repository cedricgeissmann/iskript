{
 "cells": [
  {
   "cell_type": "code",
   "execution_count": 4,
   "metadata": {},
   "outputs": [
    {
     "data": {
      "application/vnd.jupyter.widget-view+json": {
       "model_id": "2659751c3c1b406c8ddbbbc7568c39e4",
       "version_major": 2,
       "version_minor": 0
      },
      "text/plain": [
       "Canvas(height=400, sync_image_data=True, width=400)"
      ]
     },
     "metadata": {},
     "output_type": "display_data"
    }
   ],
   "source": [
    "# Lösung zu Aufgabe 6\n",
    "from gymmu.turtle import *\n",
    "\n",
    "def draw_square():\n",
    "    for i in range(4):\n",
    "        forward(50)\n",
    "        turn(90)\n",
    "        \n",
    "def draw_triangle():\n",
    "    for i in range(3):\n",
    "        forward(50)\n",
    "        turn(120)\n",
    "\n",
    "make_turtle()\n",
    "\n",
    "forward(-75)\n",
    "\n",
    "for i in range(3):\n",
    "    draw_square()\n",
    "    turn(90)\n",
    "    forward(50)\n",
    "    turn(-90)\n",
    "    draw_triangle()\n",
    "\n",
    "    pen_up()\n",
    "    forward(50)\n",
    "    turn(-90)\n",
    "    forward(50)\n",
    "    turn(90)\n",
    "    pen_down()\n",
    "\n",
    "show()"
   ]
  },
  {
   "cell_type": "code",
   "execution_count": 5,
   "metadata": {},
   "outputs": [
    {
     "data": {
      "application/vnd.jupyter.widget-view+json": {
       "model_id": "c50c3d263e7d4660857fd4613975e89c",
       "version_major": 2,
       "version_minor": 0
      },
      "text/plain": [
       "Canvas(height=400, sync_image_data=True, width=400)"
      ]
     },
     "metadata": {},
     "output_type": "display_data"
    }
   ],
   "source": [
    "from gymmu.turtle import *\n",
    "\n",
    "make_turtle()\n",
    "\n",
    "forward(80)\n",
    "turn(90)\n",
    "forward(80)\n",
    "turn(-90)\n",
    "forward(-80)\n",
    "turn(-90)\n",
    "forward(-80)\n",
    "turn(90)\n",
    "forward(80)\n",
    "\n",
    "show()"
   ]
  },
  {
   "cell_type": "code",
   "execution_count": 6,
   "metadata": {},
   "outputs": [
    {
     "data": {
      "application/vnd.jupyter.widget-view+json": {
       "model_id": "6eff7de0b7164828aaa9f1ad3000973c",
       "version_major": 2,
       "version_minor": 0
      },
      "text/plain": [
       "Canvas(height=400, sync_image_data=True, width=400)"
      ]
     },
     "metadata": {},
     "output_type": "display_data"
    }
   ],
   "source": [
    "from gymmu.turtle import *\n",
    "\n",
    "make_turtle()\n",
    "\n",
    "forward(80)\n",
    "turn(90)\n",
    "forward(80)\n",
    "turn(-90)\n",
    "forward(80)\n",
    "turn(90)\n",
    "forward(80)\n",
    "turn(-90)\n",
    "forward(80)\n",
    "\n",
    "show()"
   ]
  },
  {
   "cell_type": "code",
   "execution_count": 7,
   "metadata": {},
   "outputs": [],
   "source": [
    "# save_image(\"res/three_houses.png\")"
   ]
  },
  {
   "cell_type": "code",
   "execution_count": 8,
   "metadata": {},
   "outputs": [
    {
     "data": {
      "application/vnd.jupyter.widget-view+json": {
       "model_id": "38099f581eae48df9b0e60e354484e62",
       "version_major": 2,
       "version_minor": 0
      },
      "text/plain": [
       "Canvas(height=400, sync_image_data=True, width=400)"
      ]
     },
     "metadata": {},
     "output_type": "display_data"
    }
   ],
   "source": [
    "from gymmu.turtle import *\n",
    "\n",
    "def draw_square(a):\n",
    "    for i in range(4):\n",
    "        forward(a)\n",
    "        turn(90)\n",
    "        \n",
    "def draw_triangle(b):\n",
    "    for i in range(3):\n",
    "        forward(b)\n",
    "        turn(120)\n",
    "        \n",
    "def jump(n):\n",
    "    pen_up()\n",
    "    forward(n)\n",
    "    pen_down()\n",
    "    \n",
    "def jump_to(x,y):\n",
    "    reset()\n",
    "    pen_up()\n",
    "    forward(x-200)\n",
    "    turn(90)\n",
    "    forward(y-200)\n",
    "    turn(-90)\n",
    "    pen_down()\n",
    "\n",
    "make_turtle()\n",
    "\n",
    "jump_to(100,100)\n",
    "\n",
    "draw_square(150)\n",
    "jump(75)\n",
    "color('red')\n",
    "stroke_width(50)\n",
    "turn(90)\n",
    "forward(50)\n",
    "\n",
    "reset()\n",
    "jump_to(100,100)\n",
    "color('blue')\n",
    "turn(90)\n",
    "jump(150)\n",
    "turn(-90)\n",
    "\n",
    "draw_triangle(150)\n",
    "\n",
    "jump_to(150,200)\n",
    "stroke_width(30)\n",
    "turn(90)\n",
    "forward(20)\n",
    "\n",
    "jump_to(200,200)\n",
    "stroke_width(30)\n",
    "turn(90)\n",
    "forward(20)\n",
    "\n",
    "show()"
   ]
  },
  {
   "cell_type": "code",
   "execution_count": 9,
   "metadata": {},
   "outputs": [
    {
     "data": {
      "application/vnd.jupyter.widget-view+json": {
       "model_id": "65167f7b1ba34da59c150bd055a2748d",
       "version_major": 2,
       "version_minor": 0
      },
      "text/plain": [
       "Canvas(height=400, sync_image_data=True, width=400)"
      ]
     },
     "metadata": {},
     "output_type": "display_data"
    }
   ],
   "source": [
    "from gymmu.turtle import *\n",
    "\n",
    "def draw_square(a):\n",
    "    for i in range(4):\n",
    "        forward(a)\n",
    "        turn(90)\n",
    "\n",
    "def filled_square(n):\n",
    "    for i in range(n):\n",
    "        draw_square(i)\n",
    "\n",
    "make_turtle()\n",
    "\n",
    "color('yellow')\n",
    "stroke_width(1.1)\n",
    "\n",
    "filled_square(100)\n",
    "\n",
    "show()"
   ]
  },
  {
   "cell_type": "code",
   "execution_count": 10,
   "metadata": {},
   "outputs": [
    {
     "data": {
      "application/vnd.jupyter.widget-view+json": {
       "model_id": "66a07041907b402bac3aae920eac0702",
       "version_major": 2,
       "version_minor": 0
      },
      "text/plain": [
       "Canvas(height=400, sync_image_data=True, width=400)"
      ]
     },
     "metadata": {},
     "output_type": "display_data"
    }
   ],
   "source": [
    "from gymmu.turtle import *\n",
    "\n",
    "make_turtle()\n",
    "\n",
    "for i in range(5):\n",
    "    forward(200)\n",
    "    turn(-144)\n",
    "    \n",
    "show()"
   ]
  },
  {
   "cell_type": "code",
   "execution_count": 11,
   "metadata": {},
   "outputs": [
    {
     "data": {
      "application/vnd.jupyter.widget-view+json": {
       "model_id": "46cee865a8974060a69e2ac33602ecc6",
       "version_major": 2,
       "version_minor": 0
      },
      "text/plain": [
       "Canvas(height=400, sync_image_data=True, width=400)"
      ]
     },
     "metadata": {},
     "output_type": "display_data"
    }
   ],
   "source": [
    "from gymmu.turtle import *\n",
    "\n",
    "make_turtle()\n",
    "\n",
    "for i in range(8):\n",
    "    forward(25)\n",
    "    turn(90)\n",
    "    forward(15)\n",
    "    turn(-90)\n",
    "\n",
    "    \n",
    "show()"
   ]
  },
  {
   "cell_type": "code",
   "execution_count": 12,
   "metadata": {},
   "outputs": [
    {
     "data": {
      "application/vnd.jupyter.widget-view+json": {
       "model_id": "ca79e3d5f4684e4db4c363a9935f000a",
       "version_major": 2,
       "version_minor": 0
      },
      "text/plain": [
       "Canvas(height=400, sync_image_data=True, width=400)"
      ]
     },
     "metadata": {},
     "output_type": "display_data"
    }
   ],
   "source": [
    "from gymmu.turtle import *\n",
    "\n",
    "def jump_to(x,y):\n",
    "    reset()\n",
    "    pen_up()\n",
    "    forward(x-200)\n",
    "    turn(90)\n",
    "    forward(y-200)\n",
    "    turn(-90)\n",
    "    pen_down()\n",
    "\n",
    "make_turtle()\n",
    "\n",
    "jump_to(100,100)\n",
    "\n",
    "forward(185)\n",
    "turn(90)\n",
    "forward(185)\n",
    "turn(45)\n",
    "forward(131)\n",
    "turn(90)\n",
    "forward(131)\n",
    "turn(45)\n",
    "forward(185)\n",
    "turn(135)\n",
    "forward(262)\n",
    "turn(135)\n",
    "forward(185)\n",
    "turn(135)\n",
    "forward(262)\n",
    "\n",
    "    \n",
    "show()"
   ]
  },
  {
   "cell_type": "code",
   "execution_count": 13,
   "metadata": {},
   "outputs": [
    {
     "data": {
      "application/vnd.jupyter.widget-view+json": {
       "model_id": "f32b926a26a245d894ddf840373dbbc2",
       "version_major": 2,
       "version_minor": 0
      },
      "text/plain": [
       "Canvas(height=400, sync_image_data=True, width=400)"
      ]
     },
     "metadata": {},
     "output_type": "display_data"
    }
   ],
   "source": [
    "from gymmu.turtle import *\n",
    "\n",
    "make_turtle()\n",
    "\n",
    "for i in range(8):\n",
    "    forward(100)\n",
    "    turn(180)\n",
    "    forward(100)\n",
    "    turn(360/8)\n",
    "    \n",
    "show()"
   ]
  },
  {
   "cell_type": "code",
   "execution_count": 14,
   "metadata": {},
   "outputs": [
    {
     "data": {
      "application/vnd.jupyter.widget-view+json": {
       "model_id": "305ed6500bb5440e84f63ef7c0557d76",
       "version_major": 2,
       "version_minor": 0
      },
      "text/plain": [
       "Canvas(height=400, sync_image_data=True, width=400)"
      ]
     },
     "metadata": {},
     "output_type": "display_data"
    }
   ],
   "source": [
    "from gymmu.turtle import *\n",
    "\n",
    "make_turtle()\n",
    "\n",
    "for i in range(20):\n",
    "    forward(i*10)\n",
    "    turn(-144)\n",
    "    \n",
    "show()"
   ]
  },
  {
   "cell_type": "code",
   "execution_count": 15,
   "metadata": {},
   "outputs": [
    {
     "data": {
      "application/vnd.jupyter.widget-view+json": {
       "model_id": "e8fd2d3ff1e94ec894d6be50b0822c97",
       "version_major": 2,
       "version_minor": 0
      },
      "text/plain": [
       "Canvas(height=400, sync_image_data=True, width=400)"
      ]
     },
     "metadata": {},
     "output_type": "display_data"
    }
   ],
   "source": [
    "from gymmu.turtle import *\n",
    "\n",
    "make_turtle()\n",
    "\n",
    "color('blue')\n",
    "\n",
    "for i in range(50):\n",
    "    forward(100)\n",
    "    turn(123)\n",
    "    \n",
    "reset()\n",
    "pen_up()\n",
    "forward(-100)\n",
    "pen_down()\n",
    "\n",
    "color('red')\n",
    "\n",
    "for i in range(50):\n",
    "    forward(100)\n",
    "    turn(123)\n",
    "\n",
    "    \n",
    "show()"
   ]
  },
  {
   "cell_type": "code",
   "execution_count": 16,
   "metadata": {},
   "outputs": [
    {
     "data": {
      "application/vnd.jupyter.widget-view+json": {
       "model_id": "5e73c66b55f54eb6b927d6cb98735ce3",
       "version_major": 2,
       "version_minor": 0
      },
      "text/plain": [
       "Canvas(height=400, sync_image_data=True, width=400)"
      ]
     },
     "metadata": {},
     "output_type": "display_data"
    }
   ],
   "source": [
    "from gymmu.turtle import *\n",
    "\n",
    "make_turtle()\n",
    "\n",
    "for i in range(20):\n",
    "    forward(i*10)\n",
    "    turn(-90)\n",
    "    \n",
    "show()"
   ]
  },
  {
   "cell_type": "code",
   "execution_count": 17,
   "metadata": {},
   "outputs": [
    {
     "data": {
      "application/vnd.jupyter.widget-view+json": {
       "model_id": "fc72f26af38049bcb8cc01ecca6d8beb",
       "version_major": 2,
       "version_minor": 0
      },
      "text/plain": [
       "Canvas(height=400, sync_image_data=True, width=400)"
      ]
     },
     "metadata": {},
     "output_type": "display_data"
    }
   ],
   "source": [
    "from gymmu.turtle import *\n",
    "\n",
    "def jump(n):\n",
    "    pen_up()\n",
    "    forward(n)\n",
    "    pen_down()\n",
    "\n",
    "make_turtle()\n",
    "\n",
    "for i in range(10):\n",
    "    show()\n",
    "    jump(15)\n",
    "\n",
    "show()"
   ]
  },
  {
   "cell_type": "code",
   "execution_count": 18,
   "metadata": {},
   "outputs": [
    {
     "data": {
      "application/vnd.jupyter.widget-view+json": {
       "model_id": "f87e04589ec44033b5c2fc530c0b9467",
       "version_major": 2,
       "version_minor": 0
      },
      "text/plain": [
       "Canvas(height=400, sync_image_data=True, width=400)"
      ]
     },
     "metadata": {},
     "output_type": "display_data"
    }
   ],
   "source": [
    "from gymmu.turtle import *\n",
    "\n",
    "def jump(n):\n",
    "    pen_up()\n",
    "    forward(n)\n",
    "    pen_down()\n",
    "\n",
    "def draw_square(a):\n",
    "    for i in range(4):\n",
    "        forward(a)\n",
    "        turn(90)\n",
    "\n",
    "make_turtle()\n",
    "\n",
    "for i in range(10):\n",
    "    for j in range(10):\n",
    "        color('red')\n",
    "        stroke_width(5)\n",
    "        draw_square(1)\n",
    "        jump(15)\n",
    "    turn(90)\n",
    "    jump(15)\n",
    "    turn(-90)\n",
    "    jump(-10*15)\n",
    "    \n",
    "show()"
   ]
  },
  {
   "cell_type": "code",
   "execution_count": 19,
   "metadata": {},
   "outputs": [
    {
     "data": {
      "application/vnd.jupyter.widget-view+json": {
       "model_id": "43178f85c15a44d8b8a4c17dfd029d8f",
       "version_major": 2,
       "version_minor": 0
      },
      "text/plain": [
       "Canvas(height=400, sync_image_data=True, width=400)"
      ]
     },
     "metadata": {},
     "output_type": "display_data"
    }
   ],
   "source": [
    "from gymmu.turtle import *\n",
    "\n",
    "def jump(n):\n",
    "    pen_up()\n",
    "    forward(n)\n",
    "    pen_down()\n",
    "\n",
    "def draw_square(a):\n",
    "    for i in range(4):\n",
    "        forward(a)\n",
    "        turn(90)\n",
    "\n",
    "make_turtle()\n",
    "\n",
    "for i in range(10):\n",
    "    for j in range(10):\n",
    "        color('red')\n",
    "        stroke_width(3)\n",
    "        draw_square(3)\n",
    "        jump(15)\n",
    "    turn(90)\n",
    "    jump(15)\n",
    "    turn(-90)\n",
    "    jump(-10*15)\n",
    "    \n",
    "show()"
   ]
  },
  {
   "cell_type": "code",
   "execution_count": 20,
   "metadata": {},
   "outputs": [
    {
     "data": {
      "application/vnd.jupyter.widget-view+json": {
       "model_id": "ee9b402ffa6c4c3790575b688b7df6b3",
       "version_major": 2,
       "version_minor": 0
      },
      "text/plain": [
       "Canvas(height=400, sync_image_data=True, width=400)"
      ]
     },
     "metadata": {},
     "output_type": "display_data"
    }
   ],
   "source": [
    "from gymmu.turtle import *\n",
    "\n",
    "make_turtle()\n",
    "\n",
    "def draw_circle():\n",
    "    for i in range(360):\n",
    "        forward(1)\n",
    "        turn(1)\n",
    "\n",
    "draw_circle()\n",
    "    \n",
    "show()"
   ]
  },
  {
   "cell_type": "code",
   "execution_count": 21,
   "metadata": {},
   "outputs": [
    {
     "data": {
      "application/vnd.jupyter.widget-view+json": {
       "model_id": "f1630ece35fa404088d88223d6f3796d",
       "version_major": 2,
       "version_minor": 0
      },
      "text/plain": [
       "Canvas(height=400, sync_image_data=True, width=400)"
      ]
     },
     "metadata": {},
     "output_type": "display_data"
    }
   ],
   "source": [
    "from gymmu.turtle import *\n",
    "\n",
    "colors = ['red', 'purple', 'blue', 'green', 'orange', 'yellow']\n",
    "\n",
    "def draw_circle():\n",
    "    for i in range(6):\n",
    "        color(colors[i])\n",
    "        for j in range(60):\n",
    "            forward(1)\n",
    "            turn(1)\n",
    "\n",
    "make_turtle()\n",
    "\n",
    "draw_circle()\n",
    "    \n",
    "show()"
   ]
  },
  {
   "cell_type": "code",
   "execution_count": 22,
   "metadata": {},
   "outputs": [],
   "source": [
    "from gymmu.turtle import *\n",
    "\n",
    "make_turtle()\n",
    "\n",
    "def draw_spiral():\n",
    "    for i in range(360):\n",
    "        forward(i/5)\n",
    "        turn(360/(i+1))\n",
    "\n",
    "draw_spiral()\n",
    "    \n",
    "show()"
   ]
  },
  {
   "cell_type": "code",
   "execution_count": 23,
   "metadata": {},
   "outputs": [],
   "source": [
    "from gymmu.turtle import *\n",
    "\n",
    "make_turtle()\n",
    "\n",
    "for j in range(9):\n",
    "    turn(-60)\n",
    "    for i in range(120):\n",
    "        forward(1)\n",
    "        turn(1)\n",
    "    turn(60)\n",
    "    for i in range(120):\n",
    "        forward(1)\n",
    "        turn(1)\n",
    "    turn(40)\n",
    "\n",
    "    \n",
    "show()"
   ]
  },
  {
   "cell_type": "code",
   "execution_count": 24,
   "metadata": {},
   "outputs": [],
   "source": [
    "from gymmu.turtle import *\n",
    "\n",
    "def draw_arc(a):\n",
    "    for i in range(a):\n",
    "        forward(1)\n",
    "        turn(1)\n",
    "\n",
    "make_turtle()\n",
    "\n",
    "turn(-60)\n",
    "for i in range(2):\n",
    "    draw_arc(120)\n",
    "    turn(60)\n",
    "\n",
    "    \n",
    "show()"
   ]
  },
  {
   "cell_type": "code",
   "execution_count": 25,
   "metadata": {},
   "outputs": [],
   "source": [
    "from gymmu.turtle import *\n",
    "\n",
    "def draw_arc(a):\n",
    "    for i in range(a):\n",
    "        forward(1)\n",
    "        turn(1)\n",
    "\n",
    "make_turtle()\n",
    "\n",
    "for j in range(9):\n",
    "    for i in range(2):\n",
    "        draw_arc(120)\n",
    "        turn(60)\n",
    "    turn(40)\n",
    "    \n",
    "show()"
   ]
  },
  {
   "cell_type": "code",
   "execution_count": 26,
   "metadata": {},
   "outputs": [],
   "source": [
    "from gymmu.turtle import *\n",
    "\n",
    "colors = ['red', 'purple', 'blue', 'green', 'orange', 'yellow']\n",
    "\n",
    "\n",
    "make_turtle()\n",
    "\n",
    "for x in range(360):\n",
    "    color(colors[x%6])\n",
    "    stroke_width(x/100 + 1)\n",
    "    forward(x)\n",
    "    turn(59)\n",
    "\n",
    "show()"
   ]
  },
  {
   "cell_type": "code",
   "execution_count": 27,
   "metadata": {},
   "outputs": [
    {
     "data": {
      "application/vnd.jupyter.widget-view+json": {
       "model_id": "e470b7a4cdb948cf85345d41b0a3040a",
       "version_major": 2,
       "version_minor": 0
      },
      "text/plain": [
       "Canvas(height=400, sync_image_data=True, width=400)"
      ]
     },
     "metadata": {},
     "output_type": "display_data"
    }
   ],
   "source": [
    "from gymmu.turtle import *\n",
    "\n",
    "colors = ['red', 'purple', 'blue', 'green']\n",
    "\n",
    "\n",
    "make_turtle()\n",
    "\n",
    "for x in range(360):\n",
    "    color(colors[x%4])\n",
    "    stroke_width(x/200 + 1)\n",
    "    forward(x)\n",
    "    turn(89)\n",
    "\n",
    "show()"
   ]
  },
  {
   "cell_type": "code",
   "execution_count": 28,
   "metadata": {},
   "outputs": [],
   "source": [
    "from gymmu.turtle import *\n",
    "from math import pi\n",
    "\n",
    "\n",
    "\n",
    "make_turtle()\n",
    "\n",
    "def draw_circle(n):\n",
    "    for i in range(360):\n",
    "        forward(n)\n",
    "        turn(n)\n",
    "\n",
    "draw_circle(1)\n",
    "    \n",
    "show()"
   ]
  },
  {
   "cell_type": "code",
   "execution_count": null,
   "metadata": {},
   "outputs": [],
   "source": [
    "# Aufgabe Exam 1\n",
    "from gymmu.turtle import *\n",
    "\n",
    "def draw_hat():\n",
    "    turn(60)\n",
    "    forward(100)\n",
    "    turn(-120)\n",
    "    forward(100)\n",
    "    turn(60)\n",
    "\n",
    "make_turtle()\n",
    "\n",
    "for i in range(4):\n",
    "    draw_hat()\n",
    "    forward(50)\n",
    "\n",
    "show()"
   ]
  }
 ],
 "metadata": {
  "kernelspec": {
   "display_name": "Python 3",
   "language": "python",
   "name": "python3"
  },
  "language_info": {
   "codemirror_mode": {
    "name": "ipython",
    "version": 3
   },
   "file_extension": ".py",
   "mimetype": "text/x-python",
   "name": "python",
   "nbconvert_exporter": "python",
   "pygments_lexer": "ipython3",
   "version": "3.8.3rc1"
  }
 },
 "nbformat": 4,
 "nbformat_minor": 4
}
