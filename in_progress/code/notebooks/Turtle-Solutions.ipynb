{
 "cells": [
  {
   "cell_type": "code",
   "execution_count": 4,
   "metadata": {},
   "outputs": [
    {
     "data": {
      "application/vnd.jupyter.widget-view+json": {
       "model_id": "1f3d74171caa43e7811c6d574e72b2bb",
       "version_major": 2,
       "version_minor": 0
      },
      "text/plain": [
       "Canvas(height=400, sync_image_data=True, width=400)"
      ]
     },
     "metadata": {},
     "output_type": "display_data"
    }
   ],
   "source": [
    "# Solution 1\n",
    "from gymmu.turtle import *\n",
    "\n",
    "make_turtle()\n",
    "\n",
    "forward(150)\n",
    "turn(90)\n",
    "forward(150)\n",
    "turn(90)\n",
    "forward(150)\n",
    "turn(90)\n",
    "forward(150)\n",
    "turn(90)\n",
    "\n",
    "show()"
   ]
  },
  {
   "cell_type": "code",
   "execution_count": 5,
   "metadata": {},
   "outputs": [
    {
     "data": {
      "application/vnd.jupyter.widget-view+json": {
       "model_id": "a4be8d00aff048599601acb2876250a8",
       "version_major": 2,
       "version_minor": 0
      },
      "text/plain": [
       "Canvas(height=400, sync_image_data=True, width=400)"
      ]
     },
     "metadata": {},
     "output_type": "display_data"
    }
   ],
   "source": [
    "# Solution 2\n",
    "from gymmu.turtle import *\n",
    "\n",
    "make_turtle()\n",
    "\n",
    "turn(30)\n",
    "forward(100)\n",
    "turn(-60)\n",
    "forward(100)\n",
    "turn(-120)\n",
    "forward(100)\n",
    "turn(-60)\n",
    "forward(100)\n",
    "\n",
    "show()"
   ]
  },
  {
   "cell_type": "code",
   "execution_count": 8,
   "metadata": {},
   "outputs": [
    {
     "data": {
      "application/vnd.jupyter.widget-view+json": {
       "model_id": "02eecb0b249c4556b1abae4a7723b7e0",
       "version_major": 2,
       "version_minor": 0
      },
      "text/plain": [
       "Canvas(height=400, sync_image_data=True, width=400)"
      ]
     },
     "metadata": {},
     "output_type": "display_data"
    }
   ],
   "source": [
    "from gymmu. turtle import *\n",
    "\n",
    "make_turtle () \n",
    "\n",
    "forward(80)\n",
    "turn(90) \n",
    "forward(80) \n",
    "turn(-90)\n",
    "forward(80) \n",
    "turn(90) \n",
    "forward(80)\n",
    "turn(-90) \n",
    "forward(80)\n",
    "\n",
    "show()"
   ]
  },
  {
   "cell_type": "code",
   "execution_count": null,
   "metadata": {},
   "outputs": [],
   "source": []
  },
  {
   "cell_type": "code",
   "execution_count": null,
   "metadata": {},
   "outputs": [],
   "source": []
  },
  {
   "cell_type": "code",
   "execution_count": 15,
   "metadata": {},
   "outputs": [
    {
     "data": {
      "application/vnd.jupyter.widget-view+json": {
       "model_id": "ff077f2793cd4f08b4308014a5c5e8ba",
       "version_major": 2,
       "version_minor": 0
      },
      "text/plain": [
       "Canvas(height=400, sync_image_data=True, width=400)"
      ]
     },
     "metadata": {},
     "output_type": "display_data"
    }
   ],
   "source": [
    "# Lösung zu Aufgabe 6\n",
    "from gymmu.turtle import *\n",
    "\n",
    "make_turtle()\n",
    "\n",
    "pen_up()\n",
    "turn(-90)\n",
    "forward(150)\n",
    "turn(90)\n",
    "pen_down()\n",
    "\n",
    "forward(185)\n",
    "turn(135)\n",
    "forward(262)\n",
    "turn(-90)\n",
    "forward(131)\n",
    "turn(-90)\n",
    "forward(131)\n",
    "turn(-135)\n",
    "forward(185)\n",
    "turn(90)\n",
    "forward(185)\n",
    "turn(135)\n",
    "forward(262)\n",
    "turn(-135)\n",
    "forward(185)\n",
    "\n",
    "show()"
   ]
  },
  {
   "cell_type": "code",
   "execution_count": 20,
   "metadata": {},
   "outputs": [
    {
     "data": {
      "application/vnd.jupyter.widget-view+json": {
       "model_id": "89e5d57522854d0c80a40021b0717d53",
       "version_major": 2,
       "version_minor": 0
      },
      "text/plain": [
       "Canvas(height=400, sync_image_data=True, width=400)"
      ]
     },
     "metadata": {},
     "output_type": "display_data"
    }
   ],
   "source": [
    "# Solution 7\n",
    "from gymmu. turtle import *\n",
    "\n",
    "def poly(a,n):\n",
    "    for i in range(n):\n",
    "        forward(a)\n",
    "        turn(360/n)\n",
    "\n",
    "make_turtle () \n",
    "\n",
    "poly(50,12)\n",
    "\n",
    "show()"
   ]
  },
  {
   "cell_type": "code",
   "execution_count": 24,
   "metadata": {},
   "outputs": [
    {
     "data": {
      "application/vnd.jupyter.widget-view+json": {
       "model_id": "6ff626d30721494ea2e980c37d7798f6",
       "version_major": 2,
       "version_minor": 0
      },
      "text/plain": [
       "Canvas(height=400, sync_image_data=True, width=400)"
      ]
     },
     "metadata": {},
     "output_type": "display_data"
    }
   ],
   "source": [
    "# Solution 10\n",
    "from gymmu.turtle import *\n",
    "\n",
    "def draw_square(a):\n",
    "    for i in range(4):\n",
    "        forward(a)\n",
    "        turn(90)\n",
    "\n",
    "make_turtle()\n",
    "\n",
    "pen_up()\n",
    "forward(-150)\n",
    "pen_down()\n",
    "\n",
    "for i in range(10):\n",
    "    draw_square(10)\n",
    "    pen_up()\n",
    "    forward(20)\n",
    "    pen_down()\n",
    "    \n",
    "    \n",
    "show()"
   ]
  },
  {
   "cell_type": "code",
   "execution_count": null,
   "metadata": {},
   "outputs": [],
   "source": [
    "# Solution 11\n",
    "from gymmu.turtle import *\n",
    "\n",
    "make_turtle()\n",
    "\n",
    "for i in range(20):\n",
    "    forward(i*10)\n",
    "    turn(-90)\n",
    "    \n",
    "show()"
   ]
  },
  {
   "cell_type": "code",
   "execution_count": null,
   "metadata": {},
   "outputs": [],
   "source": [
    "# Solution 12\n",
    "from gymmu.turtle import *\n",
    "\n",
    "def draw_square(a):\n",
    "    for i in range(4):\n",
    "        forward(a)\n",
    "        turn(90)\n",
    "\n",
    "def filled_square(n):\n",
    "    for i in range(n):\n",
    "        draw_square(i)\n",
    "\n",
    "make_turtle()\n",
    "\n",
    "color('yellow')\n",
    "stroke_width(1.1)\n",
    "\n",
    "filled_square(100)\n",
    "\n",
    "show()"
   ]
  },
  {
   "cell_type": "code",
   "execution_count": null,
   "metadata": {},
   "outputs": [],
   "source": []
  },
  {
   "cell_type": "code",
   "execution_count": null,
   "metadata": {},
   "outputs": [],
   "source": [
    "# Solution 14\n",
    "from gymmu.turtle import *\n",
    "\n",
    "make_turtle()\n",
    "\n",
    "for i in range(20):\n",
    "    forward(i*10)\n",
    "    turn(-144)\n",
    "    \n",
    "show()"
   ]
  },
  {
   "cell_type": "code",
   "execution_count": null,
   "metadata": {},
   "outputs": [],
   "source": [
    "# Solution 15\n",
    "from gymmu.turtle import *\n",
    "\n",
    "colors = ['red', 'purple', 'blue', 'green', 'orange', 'yellow']\n",
    "\n",
    "\n",
    "make_turtle()\n",
    "\n",
    "for x in range(360):\n",
    "    color(colors[x%6])\n",
    "    stroke_width(x/100 + 1)\n",
    "    forward(x)\n",
    "    turn(59)\n",
    "\n",
    "show()"
   ]
  },
  {
   "cell_type": "code",
   "execution_count": null,
   "metadata": {},
   "outputs": [],
   "source": []
  }
 ],
 "metadata": {
  "kernelspec": {
   "display_name": "Python 3",
   "language": "python",
   "name": "python3"
  },
  "language_info": {
   "codemirror_mode": {
    "name": "ipython",
    "version": 3
   },
   "file_extension": ".py",
   "mimetype": "text/x-python",
   "name": "python",
   "nbconvert_exporter": "python",
   "pygments_lexer": "ipython3",
   "version": "3.8.3rc1"
  }
 },
 "nbformat": 4,
 "nbformat_minor": 4
}
