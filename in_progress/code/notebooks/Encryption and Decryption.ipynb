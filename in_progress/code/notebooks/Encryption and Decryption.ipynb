{
 "cells": [
  {
   "cell_type": "markdown",
   "metadata": {},
   "source": [
    "# Encoding and Decoding Data\n",
    "\n",
    "In computer science one of the most important tasks is to encode and decode data for different jobs or processes. The most common idea might be something like data encryption which secures your private data from nefarious third parties (or your government). But there are many other situations where data has to be translated from one *language* to another. For example you may want to print a jpeg image, but your printer only understands postscript (a standard printing language). Your printer driver will then *translate* the data from the jpeg format into the postscript format. \n",
    "\n",
    "In a similar fashion your parents may have an old CD collecting dust somewhere that has music encoded in an mp3 format. If you want to play that music on a computer you may have to change the audio format to WAV or something similar so your audio player can understand what it should sound like. \n",
    "\n",
    "Both of these examples are very easy to reverse because the formats in use have public standards that allow us to easily translate from one format into the other. If we want **encrypt** something, we want to translate it in such a way that it is very hard for someone to translate it back into a useable form unless they have very specific information about the encryption."
   ]
  },
  {
   "cell_type": "markdown",
   "metadata": {},
   "source": [
    "# Cryptography\n",
    "\n",
    "Cryptography is the process of **encrypting** and **decrypting** data. Most commonly it is used to protect your private data when you use the internet. Historically, cryptography was used during warfare to transfer messages between troops and commanders without the enemy being able to read them. "
   ]
  }
 ],
 "metadata": {
  "kernelspec": {
   "display_name": "Python 3",
   "language": "python",
   "name": "python3"
  },
  "language_info": {
   "codemirror_mode": {
    "name": "ipython",
    "version": 3
   },
   "file_extension": ".py",
   "mimetype": "text/x-python",
   "name": "python",
   "nbconvert_exporter": "python",
   "pygments_lexer": "ipython3",
   "version": "3.8.3rc1"
  }
 },
 "nbformat": 4,
 "nbformat_minor": 4
}
