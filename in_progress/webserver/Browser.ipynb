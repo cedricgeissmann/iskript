{
 "cells": [
  {
   "cell_type": "markdown",
   "id": "da1b1a94",
   "metadata": {},
   "source": [
    "# Browser\n",
    "\n",
    "A **Browser** or webbrowser is a program that can access **URLs** and render the **HTML** documents that the webservers return.\n",
    "\n",
    "We build a very simple **Webbrowser** here ourself, to access the websites that we serve from within a binder instance. We could also use it to access other websites, but this would be a bit silly, since we are already in a webbrowser to display this notebook. However, we need this own browser to run on the same server as the **Flask** application that we serve from the binder, since this is not available from the outside otherwise.\n",
    "\n",
    "## Implementing a Webbrowser\n",
    "\n",
    "Implementing a basic **webbrowser** is not very complicated, we just need a way to access a **URL** and then we just need to render the content. All of this is already done by **Python** and we already used all of this. The code block below implements a **webbrowser** for us. You just have to execute it, and then you have access the the `browse` function. This is basically what happens when you enter a **URL** in the url-bar in your **Webbrowser**."
   ]
  },
  {
   "cell_type": "code",
   "execution_count": 30,
   "id": "d6b16341",
   "metadata": {},
   "outputs": [],
   "source": [
    "from ipywidgets import HTML\n",
    "import requests\n",
    "\n",
    "def browse(url):\n",
    "    response = requests.get(url)\n",
    "    display(HTML(value=response.text))"
   ]
  },
  {
   "cell_type": "markdown",
   "id": "68f83e36",
   "metadata": {},
   "source": [
    "### Exercise\n",
    "\n",
    "> Execute the cell below. Then change the url to something like `\"http://localhost:5000/test\"`."
   ]
  },
  {
   "cell_type": "code",
   "execution_count": 38,
   "id": "5ceee78b",
   "metadata": {},
   "outputs": [
    {
     "data": {
      "application/vnd.jupyter.widget-view+json": {
       "model_id": "240f16ab7fe7446d836ad7967ca465d3",
       "version_major": 2,
       "version_minor": 0
      },
      "text/plain": [
       "HTML(value='<!DOCTYPE html>\\n<html lang=\"en\">\\n    <head>\\n        <title>Index</title>\\n        <meta charset…"
      ]
     },
     "metadata": {},
     "output_type": "display_data"
    }
   ],
   "source": [
    "browse(\"http://localhost:5000/\")"
   ]
  }
 ],
 "metadata": {
  "kernelspec": {
   "display_name": "Python 3 (ipykernel)",
   "language": "python",
   "name": "python3"
  },
  "language_info": {
   "codemirror_mode": {
    "name": "ipython",
    "version": 3
   },
   "file_extension": ".py",
   "mimetype": "text/x-python",
   "name": "python",
   "nbconvert_exporter": "python",
   "pygments_lexer": "ipython3",
   "version": "3.9.9"
  }
 },
 "nbformat": 4,
 "nbformat_minor": 5
}
