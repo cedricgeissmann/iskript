{
 "cells": [
  {
   "cell_type": "markdown",
   "id": "ef9c3792",
   "metadata": {},
   "source": [
    "# Webserver\n",
    "\n",
    "A **webserver** is a programm that runs on a computer somewhere on the internet and that serves webrequests like websites and similar things. The static websites that we built so far are not a typical usecase for a **webserver**. A **webserver** also handles authentication of a user and queries databases if neccessary. In todays internet it is also often the case that a **webserver** not only serves some websites, but rather the plain data usually in form of **JSON**. The **webserver** therefore acts as a middle man for accessig data on a database. Let's focus on serving websites first.\n",
    "\n",
    "## Flask\n",
    "\n",
    "**Flask** is another **Python** framework that implements a very basic **webserver**. There are more complex frameworks out there that provide the whole **webserver** experience with an admin panel and a database view and everything, but these frameworks are very large and we don't need all these functions anyways so we can use a simpler framework and learn everything yourself!\n",
    "\n",
    "### Serving a Website with Flask\n",
    "\n",
    "Serving a **website** with **Flask** is very easy. We just tell **Flask** to setup a server and listen on certain `routes`. If one of these `routes` is accessed, we render a template and send it back to the user. If another `route` is accessed, we send an error that the page in not available.\n",
    "\n",
    "### Exercise\n",
    "\n",
    "> In the code cell below you can find a minimal example of a **Flask** app that renders a website when the correct `route` is accessed. Execute the cell below, you should then see a `*` in the top left.\n",
    ">\n",
    "> **Hint:** If you run this on myBinder.org you cannot access the website directly... We have to use al little trick to circumvent this issue. Just open the notebook `Browser.ipynb` that is located next to this notebook, and execute the first cell in there!"
   ]
  },
  {
   "cell_type": "code",
   "execution_count": 73,
   "id": "55302eb4",
   "metadata": {},
   "outputs": [
    {
     "name": "stdout",
     "output_type": "stream",
     "text": [
      " * Serving Flask app '__main__' (lazy loading)\n",
      " * Environment: production\n",
      "\u001b[31m   WARNING: This is a development server. Do not use it in a production deployment.\u001b[0m\n",
      "\u001b[2m   Use a production WSGI server instead.\u001b[0m\n",
      " * Debug mode: off\n"
     ]
    },
    {
     "name": "stderr",
     "output_type": "stream",
     "text": [
      " * Running on http://127.0.0.1:5000/ (Press CTRL+C to quit)\n",
      "127.0.0.1 - - [27/Dec/2021 23:35:31] \"GET / HTTP/1.1\" 200 -\n"
     ]
    }
   ],
   "source": [
    "from flask import Flask, render_template\n",
    "\n",
    "app = Flask(__name__)\n",
    "\n",
    "@app.route(\"/\")\n",
    "def home():\n",
    "    return render_template(\"index.html\")\n",
    "\n",
    "app.run()"
   ]
  },
  {
   "cell_type": "markdown",
   "id": "abb73626",
   "metadata": {},
   "source": [
    "This **Flask** application just serves a website at *root* which is indicated with just `/`. This is the normal entry point for all webservers that serve multiple sites. From there we can click different links and move to other sites on the same server, or even different servers at all.\n",
    "\n",
    "## Adding other Routes\n",
    "\n",
    "To add another `route` in **Flask** we just have to create a new function and give it the decorator `@app.route` with the route we want to serve. We can then return another rendered template, or we can return a string directly from the function.\n",
    "\n",
    "> **IMPORTANT!**\n",
    ">\n",
    "> Before we can make any changes to the **Flask** application, we have to stop the application first.\n",
    "\n",
    "### Exercise\n",
    "\n",
    "> Stop to code cell above! Then add another `route` to the **Flask** application in the cell below and return a string from it. Access the new `route` over the browser to check if it is working as intended."
   ]
  },
  {
   "cell_type": "code",
   "execution_count": 74,
   "id": "efa253ee",
   "metadata": {},
   "outputs": [
    {
     "name": "stdout",
     "output_type": "stream",
     "text": [
      " * Serving Flask app '__main__' (lazy loading)\n",
      " * Environment: production\n",
      "\u001b[31m   WARNING: This is a development server. Do not use it in a production deployment.\u001b[0m\n",
      "\u001b[2m   Use a production WSGI server instead.\u001b[0m\n",
      " * Debug mode: off\n"
     ]
    },
    {
     "name": "stderr",
     "output_type": "stream",
     "text": [
      " * Running on http://127.0.0.1:5000/ (Press CTRL+C to quit)\n",
      "127.0.0.1 - - [27/Dec/2021 23:46:07] \"GET /another HTTP/1.1\" 200 -\n",
      "127.0.0.1 - - [27/Dec/2021 23:46:11] \"GET / HTTP/1.1\" 200 -\n"
     ]
    }
   ],
   "source": [
    "from flask import Flask, render_template\n",
    "\n",
    "app = Flask(__name__)\n",
    "\n",
    "@app.route(\"/\")\n",
    "def home():\n",
    "    return render_template(\"index.html\")\n",
    "\n",
    "@app.route(\"/another\")\n",
    "def another():\n",
    "    return \"This is another valid route.\"\n",
    "\n",
    "app.run()"
   ]
  },
  {
   "cell_type": "markdown",
   "id": "1e605171",
   "metadata": {},
   "source": [
    "As you can see, it is very easy to setup a **webserver** and serve some websites.\n",
    "\n",
    "## Using Templates\n",
    "\n",
    "We already talked about using templates with **Flask**. It is as simple as using templates with **Jinja2**, since **Flask** uses **Jinja2** to render its templates. By default the templates are in a directory called `templates` that is located next to the notebook that runs the server.\n",
    "\n",
    "### Exercise\n",
    "\n",
    "> Copy a template from the last chapter or create a new one. Then add a new route that serves this template.\n",
    ">\n",
    "> **Hint:** You can add data to the template by adding it as keyword arguments to the `render_template` function (i.e. `render_template(\"index.html\", name=\"My Name\")`)"
   ]
  },
  {
   "cell_type": "code",
   "execution_count": null,
   "id": "f542ee76",
   "metadata": {},
   "outputs": [],
   "source": []
  }
 ],
 "metadata": {
  "kernelspec": {
   "display_name": "Python 3 (ipykernel)",
   "language": "python",
   "name": "python3"
  },
  "language_info": {
   "codemirror_mode": {
    "name": "ipython",
    "version": 3
   },
   "file_extension": ".py",
   "mimetype": "text/x-python",
   "name": "python",
   "nbconvert_exporter": "python",
   "pygments_lexer": "ipython3",
   "version": "3.9.9"
  }
 },
 "nbformat": 4,
 "nbformat_minor": 5
}
