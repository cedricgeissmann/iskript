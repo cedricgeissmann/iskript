{
 "cells": [
  {
   "cell_type": "code",
   "execution_count": 1,
   "id": "ca2361b5",
   "metadata": {},
   "outputs": [
    {
     "name": "stdout",
     "output_type": "stream",
     "text": [
      "Data already exists!\n"
     ]
    }
   ],
   "source": [
    "import sqlite3\n",
    "import json\n",
    "\n",
    "data = {\n",
    "    'name': 'ME '\n",
    "}\n",
    "\n",
    "con = sqlite3.connect(\"store.db\")\n",
    "con.execute(\"create table if not exists  store (id integer primary key, data json unique)\")\n",
    "\n",
    "try:\n",
    "    with con:\n",
    "        con.execute(\"insert into store(data) values (?)\", (json.dumps(data), ))\n",
    "except sqlite3.IntegrityError:\n",
    "    print(\"Data already exists!\")\n",
    "\n",
    "con.close()"
   ]
  },
  {
   "cell_type": "code",
   "execution_count": 2,
   "id": "8290f3f1",
   "metadata": {},
   "outputs": [
    {
     "name": "stdout",
     "output_type": "stream",
     "text": [
      "[{'name': 'Me'}, {'name': 'Me '}, {'name': 'ME '}]\n"
     ]
    }
   ],
   "source": [
    "con = sqlite3.connect(\"store.db\")\n",
    "res = [json.loads(data) for data, in con.execute(\"select data from store\")]\n",
    "print(res)\n",
    "con.close()"
   ]
  }
 ],
 "metadata": {
  "kernelspec": {
   "display_name": "Python 3 (ipykernel)",
   "language": "python",
   "name": "python3"
  },
  "language_info": {
   "codemirror_mode": {
    "name": "ipython",
    "version": 3
   },
   "file_extension": ".py",
   "mimetype": "text/x-python",
   "name": "python",
   "nbconvert_exporter": "python",
   "pygments_lexer": "ipython3",
   "version": "3.9.9"
  }
 },
 "nbformat": 4,
 "nbformat_minor": 5
}
